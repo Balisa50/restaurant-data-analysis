{
  "nbformat": 4,
  "nbformat_minor": 0,
  "metadata": {
    "colab": {
      "provenance": [],
      "authorship_tag": "ABX9TyMYm0QDwdGby+rg/O6aQ3dl",
      "include_colab_link": true
    },
    "kernelspec": {
      "name": "python3",
      "display_name": "Python 3"
    },
    "language_info": {
      "name": "python"
    }
  },
  "cells": [
    {
      "cell_type": "markdown",
      "metadata": {
        "id": "view-in-github",
        "colab_type": "text"
      },
      "source": [
        "<a href=\"https://colab.research.google.com/github/Balisa50/restaurant-data-analysis/blob/main/Geospatial_mapping_and_Analysis.ipynb\" target=\"_parent\"><img src=\"https://colab.research.google.com/assets/colab-badge.svg\" alt=\"Open In Colab\"/></a>"
      ]
    },
    {
      "cell_type": "code",
      "source": [
        "# Read and print the dataset\n",
        "link =\"https://raw.githubusercontent.com/Oyeniran20/axia_class_cohort_7/refs/heads/main/Dataset%20.csv\"\n",
        "df = pd.read_csv(link)\n"
      ],
      "metadata": {
        "id": "otTPf1XRRPtP"
      },
      "execution_count": null,
      "outputs": []
    },
    {
      "cell_type": "code",
      "execution_count": null,
      "metadata": {
        "colab": {
          "base_uri": "https://localhost:8080/"
        },
        "id": "jsOauasdQw9i",
        "outputId": "c17c3e2b-b9fc-45b4-e3c0-8f2b8a3ab941"
      },
      "outputs": [
        {
          "output_type": "stream",
          "name": "stdout",
          "text": [
            "Requirement already satisfied: geopandas in /usr/local/lib/python3.11/dist-packages (1.0.1)\n",
            "Requirement already satisfied: shapely in /usr/local/lib/python3.11/dist-packages (2.1.0)\n",
            "Requirement already satisfied: numpy>=1.22 in /usr/local/lib/python3.11/dist-packages (from geopandas) (2.0.2)\n",
            "Requirement already satisfied: pyogrio>=0.7.2 in /usr/local/lib/python3.11/dist-packages (from geopandas) (0.10.0)\n",
            "Requirement already satisfied: packaging in /usr/local/lib/python3.11/dist-packages (from geopandas) (24.2)\n",
            "Requirement already satisfied: pandas>=1.4.0 in /usr/local/lib/python3.11/dist-packages (from geopandas) (2.2.2)\n",
            "Requirement already satisfied: pyproj>=3.3.0 in /usr/local/lib/python3.11/dist-packages (from geopandas) (3.7.1)\n",
            "Requirement already satisfied: python-dateutil>=2.8.2 in /usr/local/lib/python3.11/dist-packages (from pandas>=1.4.0->geopandas) (2.8.2)\n",
            "Requirement already satisfied: pytz>=2020.1 in /usr/local/lib/python3.11/dist-packages (from pandas>=1.4.0->geopandas) (2025.2)\n",
            "Requirement already satisfied: tzdata>=2022.7 in /usr/local/lib/python3.11/dist-packages (from pandas>=1.4.0->geopandas) (2025.2)\n",
            "Requirement already satisfied: certifi in /usr/local/lib/python3.11/dist-packages (from pyogrio>=0.7.2->geopandas) (2025.1.31)\n",
            "Requirement already satisfied: six>=1.5 in /usr/local/lib/python3.11/dist-packages (from python-dateutil>=2.8.2->pandas>=1.4.0->geopandas) (1.17.0)\n"
          ]
        }
      ],
      "source": [
        "!pip install geopandas shapely"
      ]
    },
    {
      "cell_type": "code",
      "source": [
        "import pandas as pd\n",
        "import geopandas as gpd\n",
        "import folium\n",
        "import zipfile\n",
        "import os\n",
        "from shapely.geometry import Point\n",
        "from google.colab import files\n",
        "\n",
        "# Map Restaurants by Rating\n",
        "\n",
        "\n",
        "#  Upload ZIP file\n",
        "\n",
        "uploaded = files.upload()\n",
        "for filename in uploaded:\n",
        "    if filename.endswith(\".zip\"):\n",
        "        with zipfile.ZipFile(filename, \"r\") as zip_ref:\n",
        "            zip_ref.extractall(\"shapefile_data\")\n",
        "        print(f\"Unzipped {filename} into 'shapefile_data' folder.\")\n",
        "        break\n",
        "\n",
        "# Check if data got Longitude, Latitude, and Rating\n",
        "if not {\"Longitude\", \"Latitude\", \"Aggregate rating\"}.issubset(df.columns):\n",
        "    print(\"Error: Dataset missing important column (Longitude, Latitude, or Rating).\")\n",
        "else:\n",
        "    #  Convert to map points\n",
        "    df[\"geometry\"] = [Point(xy) for xy in zip(df[\"Longitude\"], df[\"Latitude\"])]\n",
        "    gdf = gpd.GeoDataFrame(df, geometry=\"geometry\")\n",
        "\n",
        "    #  Find the .shp file in the folder\n",
        "    shapefile_path = None\n",
        "    for file in os.listdir(\"shapefile_data\"):\n",
        "        if file.endswith(\".shp\"):\n",
        "            shapefile_path = os.path.join(\"shapefile_data\", file)\n",
        "            break\n",
        "\n",
        "    if shapefile_path:\n",
        "        try:\n",
        "            #  Load the map (shapefile)\n",
        "            world = gpd.read_file(shapefile_path)\n",
        "        except FileNotFoundError:\n",
        "            print(\"Error: Shapefile not found, maybe check ZIP file?\")\n",
        "        except ValueError:\n",
        "            print(\"Error: Can’t read shapefile, something wrong.\")\n",
        "        else:\n",
        "            #  Make map, focus on restaurant area\n",
        "            center_lat, center_lon = gdf[\"Latitude\"].mean(), gdf[\"Longitude\"].mean()\n",
        "            my_map = folium.Map(location=[center_lat, center_lon], zoom_start=4, tiles=\"CartoDB positron\")\n",
        "\n",
        "            # Add country shape to map\n",
        "            folium.GeoJson(\n",
        "                world,\n",
        "                style_function=lambda x: {\n",
        "                    \"fillColor\": \"lightblue\",\n",
        "                    \"color\": \"black\",\n",
        "                    \"weight\": 0.5,\n",
        "                    \"fillOpacity\": 0.4,\n",
        "                },\n",
        "            ).add_to(my_map)\n",
        "\n",
        "            #  Function to set marker color based on rating\n",
        "            def get_color(rating):\n",
        "                if rating >= 4.5:\n",
        "                    return \"green\"  # Very good\n",
        "                elif 3.0 <= rating < 4.5:\n",
        "                    return \"yellow\"  # Okay\n",
        "                else:\n",
        "                    return \"red\"  # Not good\n",
        "\n",
        "            #  Add restaurants to map\n",
        "            for _, row in gdf.iterrows():\n",
        "                name = row.get(\"Restaurant Name\", row.get(\"Restaurant\", \"Unknown\"))\n",
        "                rating = row.get(\"Aggregate rating\", 0)  # If no rating, assume 0\n",
        "                color = get_color(rating)\n",
        "\n",
        "                folium.CircleMarker(\n",
        "                    location=[row[\"Latitude\"], row[\"Longitude\"]],\n",
        "                    radius=5,\n",
        "                    color=color,\n",
        "                    fill=True,\n",
        "                    fill_color=color,\n",
        "                    fill_opacity=0.7,\n",
        "                    popup=f\"Restaurant: {name}<br>Rating: {rating}\",\n",
        "                ).add_to(my_map)\n",
        "\n",
        "            #  Show map\n",
        "            display(my_map)\n",
        "\n",
        "            # Find correlation (does location affect rating?)\n",
        "            correlation = df[[\"Longitude\", \"Latitude\", \"Aggregate rating\"]].corr()\n",
        "            print(\"Correlation Matrix:\\n\", correlation)\n",
        "\n",
        "    else:\n",
        "        print(\"No .shp file found in the folder. Try again?\")\n",
        "\n"
      ],
      "metadata": {
        "colab": {
          "base_uri": "https://localhost:8080/",
          "height": 882
        },
        "id": "eo1uAc0CQ2-d",
        "outputId": "fd4d3cd7-0689-4a39-c9fd-cbc6fe8e4421"
      },
      "execution_count": null,
      "outputs": []
    },
    {
      "cell_type": "code",
      "source": [],
      "metadata": {
        "id": "1CM_ZdZ1RGwZ"
      },
      "execution_count": null,
      "outputs": []
    }
  ]
}