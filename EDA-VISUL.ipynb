{
  "cells": [
    {
      "cell_type": "markdown",
      "metadata": {
        "id": "view-in-github",
        "colab_type": "text"
      },
      "source": [
        "<a href=\"https://colab.research.google.com/github/Balisa50/restaurant-data-analysis/blob/main/Another_copy_of_project.ipynb\" target=\"_parent\"><img src=\"https://colab.research.google.com/assets/colab-badge.svg\" alt=\"Open In Colab\"/></a>"
      ]
    },
    {
      "cell_type": "markdown",
      "metadata": {
        "id": "nhYYdCdTVz80"
      },
      "source": [
        "# import liberies"
      ]
    },
    {
      "cell_type": "code",
      "execution_count": null,
      "metadata": {
        "id": "uA4H9SDA9mUH"
      },
      "outputs": [],
      "source": [
        "import pandas as pd\n",
        "import numpy as np\n",
        "import matplotlib.pyplot as plt\n",
        "import seaborn as sns"
      ]
    },
    {
      "cell_type": "code",
      "execution_count": null,
      "metadata": {
        "colab": {
          "base_uri": "https://localhost:8080/",
          "height": 404
        },
        "id": "Oj2HpPIv9zxu",
        "outputId": "4497eaa5-757a-48ae-a363-21139c3c196f"
      },
      "outputs": [
        {
          "data": {
            "application/vnd.google.colaboratory.intrinsic+json": {
              "type": "dataframe",
              "variable_name": "df"
            },
            "text/html": [
              "\n",
              "  <div id=\"df-c5b8b826-f113-45e7-a9e6-2de4bc74616d\" class=\"colab-df-container\">\n",
              "    <div>\n",
              "<style scoped>\n",
              "    .dataframe tbody tr th:only-of-type {\n",
              "        vertical-align: middle;\n",
              "    }\n",
              "\n",
              "    .dataframe tbody tr th {\n",
              "        vertical-align: top;\n",
              "    }\n",
              "\n",
              "    .dataframe thead th {\n",
              "        text-align: right;\n",
              "    }\n",
              "</style>\n",
              "<table border=\"1\" class=\"dataframe\">\n",
              "  <thead>\n",
              "    <tr style=\"text-align: right;\">\n",
              "      <th></th>\n",
              "      <th>Restaurant ID</th>\n",
              "      <th>Restaurant Name</th>\n",
              "      <th>Country Code</th>\n",
              "      <th>City</th>\n",
              "      <th>Address</th>\n",
              "      <th>Locality</th>\n",
              "      <th>Locality Verbose</th>\n",
              "      <th>Longitude</th>\n",
              "      <th>Latitude</th>\n",
              "      <th>Cuisines</th>\n",
              "      <th>...</th>\n",
              "      <th>Currency</th>\n",
              "      <th>Has Table booking</th>\n",
              "      <th>Has Online delivery</th>\n",
              "      <th>Is delivering now</th>\n",
              "      <th>Switch to order menu</th>\n",
              "      <th>Price range</th>\n",
              "      <th>Aggregate rating</th>\n",
              "      <th>Rating color</th>\n",
              "      <th>Rating text</th>\n",
              "      <th>Votes</th>\n",
              "    </tr>\n",
              "  </thead>\n",
              "  <tbody>\n",
              "    <tr>\n",
              "      <th>0</th>\n",
              "      <td>6317637</td>\n",
              "      <td>Le Petit Souffle</td>\n",
              "      <td>162</td>\n",
              "      <td>Makati City</td>\n",
              "      <td>Third Floor, Century City Mall, Kalayaan Avenu...</td>\n",
              "      <td>Century City Mall, Poblacion, Makati City</td>\n",
              "      <td>Century City Mall, Poblacion, Makati City, Mak...</td>\n",
              "      <td>121.027535</td>\n",
              "      <td>14.565443</td>\n",
              "      <td>French, Japanese, Desserts</td>\n",
              "      <td>...</td>\n",
              "      <td>Botswana Pula(P)</td>\n",
              "      <td>Yes</td>\n",
              "      <td>No</td>\n",
              "      <td>No</td>\n",
              "      <td>No</td>\n",
              "      <td>3</td>\n",
              "      <td>4.8</td>\n",
              "      <td>Dark Green</td>\n",
              "      <td>Excellent</td>\n",
              "      <td>314</td>\n",
              "    </tr>\n",
              "    <tr>\n",
              "      <th>1</th>\n",
              "      <td>6304287</td>\n",
              "      <td>Izakaya Kikufuji</td>\n",
              "      <td>162</td>\n",
              "      <td>Makati City</td>\n",
              "      <td>Little Tokyo, 2277 Chino Roces Avenue, Legaspi...</td>\n",
              "      <td>Little Tokyo, Legaspi Village, Makati City</td>\n",
              "      <td>Little Tokyo, Legaspi Village, Makati City, Ma...</td>\n",
              "      <td>121.014101</td>\n",
              "      <td>14.553708</td>\n",
              "      <td>Japanese</td>\n",
              "      <td>...</td>\n",
              "      <td>Botswana Pula(P)</td>\n",
              "      <td>Yes</td>\n",
              "      <td>No</td>\n",
              "      <td>No</td>\n",
              "      <td>No</td>\n",
              "      <td>3</td>\n",
              "      <td>4.5</td>\n",
              "      <td>Dark Green</td>\n",
              "      <td>Excellent</td>\n",
              "      <td>591</td>\n",
              "    </tr>\n",
              "  </tbody>\n",
              "</table>\n",
              "<p>2 rows × 21 columns</p>\n",
              "</div>\n",
              "    <div class=\"colab-df-buttons\">\n",
              "\n",
              "  <div class=\"colab-df-container\">\n",
              "    <button class=\"colab-df-convert\" onclick=\"convertToInteractive('df-c5b8b826-f113-45e7-a9e6-2de4bc74616d')\"\n",
              "            title=\"Convert this dataframe to an interactive table.\"\n",
              "            style=\"display:none;\">\n",
              "\n",
              "  <svg xmlns=\"http://www.w3.org/2000/svg\" height=\"24px\" viewBox=\"0 -960 960 960\">\n",
              "    <path d=\"M120-120v-720h720v720H120Zm60-500h600v-160H180v160Zm220 220h160v-160H400v160Zm0 220h160v-160H400v160ZM180-400h160v-160H180v160Zm440 0h160v-160H620v160ZM180-180h160v-160H180v160Zm440 0h160v-160H620v160Z\"/>\n",
              "  </svg>\n",
              "    </button>\n",
              "\n",
              "  <style>\n",
              "    .colab-df-container {\n",
              "      display:flex;\n",
              "      gap: 12px;\n",
              "    }\n",
              "\n",
              "    .colab-df-convert {\n",
              "      background-color: #E8F0FE;\n",
              "      border: none;\n",
              "      border-radius: 50%;\n",
              "      cursor: pointer;\n",
              "      display: none;\n",
              "      fill: #1967D2;\n",
              "      height: 32px;\n",
              "      padding: 0 0 0 0;\n",
              "      width: 32px;\n",
              "    }\n",
              "\n",
              "    .colab-df-convert:hover {\n",
              "      background-color: #E2EBFA;\n",
              "      box-shadow: 0px 1px 2px rgba(60, 64, 67, 0.3), 0px 1px 3px 1px rgba(60, 64, 67, 0.15);\n",
              "      fill: #174EA6;\n",
              "    }\n",
              "\n",
              "    .colab-df-buttons div {\n",
              "      margin-bottom: 4px;\n",
              "    }\n",
              "\n",
              "    [theme=dark] .colab-df-convert {\n",
              "      background-color: #3B4455;\n",
              "      fill: #D2E3FC;\n",
              "    }\n",
              "\n",
              "    [theme=dark] .colab-df-convert:hover {\n",
              "      background-color: #434B5C;\n",
              "      box-shadow: 0px 1px 3px 1px rgba(0, 0, 0, 0.15);\n",
              "      filter: drop-shadow(0px 1px 2px rgba(0, 0, 0, 0.3));\n",
              "      fill: #FFFFFF;\n",
              "    }\n",
              "  </style>\n",
              "\n",
              "    <script>\n",
              "      const buttonEl =\n",
              "        document.querySelector('#df-c5b8b826-f113-45e7-a9e6-2de4bc74616d button.colab-df-convert');\n",
              "      buttonEl.style.display =\n",
              "        google.colab.kernel.accessAllowed ? 'block' : 'none';\n",
              "\n",
              "      async function convertToInteractive(key) {\n",
              "        const element = document.querySelector('#df-c5b8b826-f113-45e7-a9e6-2de4bc74616d');\n",
              "        const dataTable =\n",
              "          await google.colab.kernel.invokeFunction('convertToInteractive',\n",
              "                                                    [key], {});\n",
              "        if (!dataTable) return;\n",
              "\n",
              "        const docLinkHtml = 'Like what you see? Visit the ' +\n",
              "          '<a target=\"_blank\" href=https://colab.research.google.com/notebooks/data_table.ipynb>data table notebook</a>'\n",
              "          + ' to learn more about interactive tables.';\n",
              "        element.innerHTML = '';\n",
              "        dataTable['output_type'] = 'display_data';\n",
              "        await google.colab.output.renderOutput(dataTable, element);\n",
              "        const docLink = document.createElement('div');\n",
              "        docLink.innerHTML = docLinkHtml;\n",
              "        element.appendChild(docLink);\n",
              "      }\n",
              "    </script>\n",
              "  </div>\n",
              "\n",
              "\n",
              "    <div id=\"df-b300f2f7-f0e2-40f4-9175-898fc5be176c\">\n",
              "      <button class=\"colab-df-quickchart\" onclick=\"quickchart('df-b300f2f7-f0e2-40f4-9175-898fc5be176c')\"\n",
              "                title=\"Suggest charts\"\n",
              "                style=\"display:none;\">\n",
              "\n",
              "<svg xmlns=\"http://www.w3.org/2000/svg\" height=\"24px\"viewBox=\"0 0 24 24\"\n",
              "     width=\"24px\">\n",
              "    <g>\n",
              "        <path d=\"M19 3H5c-1.1 0-2 .9-2 2v14c0 1.1.9 2 2 2h14c1.1 0 2-.9 2-2V5c0-1.1-.9-2-2-2zM9 17H7v-7h2v7zm4 0h-2V7h2v10zm4 0h-2v-4h2v4z\"/>\n",
              "    </g>\n",
              "</svg>\n",
              "      </button>\n",
              "\n",
              "<style>\n",
              "  .colab-df-quickchart {\n",
              "      --bg-color: #E8F0FE;\n",
              "      --fill-color: #1967D2;\n",
              "      --hover-bg-color: #E2EBFA;\n",
              "      --hover-fill-color: #174EA6;\n",
              "      --disabled-fill-color: #AAA;\n",
              "      --disabled-bg-color: #DDD;\n",
              "  }\n",
              "\n",
              "  [theme=dark] .colab-df-quickchart {\n",
              "      --bg-color: #3B4455;\n",
              "      --fill-color: #D2E3FC;\n",
              "      --hover-bg-color: #434B5C;\n",
              "      --hover-fill-color: #FFFFFF;\n",
              "      --disabled-bg-color: #3B4455;\n",
              "      --disabled-fill-color: #666;\n",
              "  }\n",
              "\n",
              "  .colab-df-quickchart {\n",
              "    background-color: var(--bg-color);\n",
              "    border: none;\n",
              "    border-radius: 50%;\n",
              "    cursor: pointer;\n",
              "    display: none;\n",
              "    fill: var(--fill-color);\n",
              "    height: 32px;\n",
              "    padding: 0;\n",
              "    width: 32px;\n",
              "  }\n",
              "\n",
              "  .colab-df-quickchart:hover {\n",
              "    background-color: var(--hover-bg-color);\n",
              "    box-shadow: 0 1px 2px rgba(60, 64, 67, 0.3), 0 1px 3px 1px rgba(60, 64, 67, 0.15);\n",
              "    fill: var(--button-hover-fill-color);\n",
              "  }\n",
              "\n",
              "  .colab-df-quickchart-complete:disabled,\n",
              "  .colab-df-quickchart-complete:disabled:hover {\n",
              "    background-color: var(--disabled-bg-color);\n",
              "    fill: var(--disabled-fill-color);\n",
              "    box-shadow: none;\n",
              "  }\n",
              "\n",
              "  .colab-df-spinner {\n",
              "    border: 2px solid var(--fill-color);\n",
              "    border-color: transparent;\n",
              "    border-bottom-color: var(--fill-color);\n",
              "    animation:\n",
              "      spin 1s steps(1) infinite;\n",
              "  }\n",
              "\n",
              "  @keyframes spin {\n",
              "    0% {\n",
              "      border-color: transparent;\n",
              "      border-bottom-color: var(--fill-color);\n",
              "      border-left-color: var(--fill-color);\n",
              "    }\n",
              "    20% {\n",
              "      border-color: transparent;\n",
              "      border-left-color: var(--fill-color);\n",
              "      border-top-color: var(--fill-color);\n",
              "    }\n",
              "    30% {\n",
              "      border-color: transparent;\n",
              "      border-left-color: var(--fill-color);\n",
              "      border-top-color: var(--fill-color);\n",
              "      border-right-color: var(--fill-color);\n",
              "    }\n",
              "    40% {\n",
              "      border-color: transparent;\n",
              "      border-right-color: var(--fill-color);\n",
              "      border-top-color: var(--fill-color);\n",
              "    }\n",
              "    60% {\n",
              "      border-color: transparent;\n",
              "      border-right-color: var(--fill-color);\n",
              "    }\n",
              "    80% {\n",
              "      border-color: transparent;\n",
              "      border-right-color: var(--fill-color);\n",
              "      border-bottom-color: var(--fill-color);\n",
              "    }\n",
              "    90% {\n",
              "      border-color: transparent;\n",
              "      border-bottom-color: var(--fill-color);\n",
              "    }\n",
              "  }\n",
              "</style>\n",
              "\n",
              "      <script>\n",
              "        async function quickchart(key) {\n",
              "          const quickchartButtonEl =\n",
              "            document.querySelector('#' + key + ' button');\n",
              "          quickchartButtonEl.disabled = true;  // To prevent multiple clicks.\n",
              "          quickchartButtonEl.classList.add('colab-df-spinner');\n",
              "          try {\n",
              "            const charts = await google.colab.kernel.invokeFunction(\n",
              "                'suggestCharts', [key], {});\n",
              "          } catch (error) {\n",
              "            console.error('Error during call to suggestCharts:', error);\n",
              "          }\n",
              "          quickchartButtonEl.classList.remove('colab-df-spinner');\n",
              "          quickchartButtonEl.classList.add('colab-df-quickchart-complete');\n",
              "        }\n",
              "        (() => {\n",
              "          let quickchartButtonEl =\n",
              "            document.querySelector('#df-b300f2f7-f0e2-40f4-9175-898fc5be176c button');\n",
              "          quickchartButtonEl.style.display =\n",
              "            google.colab.kernel.accessAllowed ? 'block' : 'none';\n",
              "        })();\n",
              "      </script>\n",
              "    </div>\n",
              "\n",
              "    </div>\n",
              "  </div>\n"
            ],
            "text/plain": [
              "   Restaurant ID   Restaurant Name  Country Code         City  \\\n",
              "0        6317637  Le Petit Souffle           162  Makati City   \n",
              "1        6304287  Izakaya Kikufuji           162  Makati City   \n",
              "\n",
              "                                             Address  \\\n",
              "0  Third Floor, Century City Mall, Kalayaan Avenu...   \n",
              "1  Little Tokyo, 2277 Chino Roces Avenue, Legaspi...   \n",
              "\n",
              "                                     Locality  \\\n",
              "0   Century City Mall, Poblacion, Makati City   \n",
              "1  Little Tokyo, Legaspi Village, Makati City   \n",
              "\n",
              "                                    Locality Verbose   Longitude   Latitude  \\\n",
              "0  Century City Mall, Poblacion, Makati City, Mak...  121.027535  14.565443   \n",
              "1  Little Tokyo, Legaspi Village, Makati City, Ma...  121.014101  14.553708   \n",
              "\n",
              "                     Cuisines  ...          Currency Has Table booking  \\\n",
              "0  French, Japanese, Desserts  ...  Botswana Pula(P)               Yes   \n",
              "1                    Japanese  ...  Botswana Pula(P)               Yes   \n",
              "\n",
              "  Has Online delivery Is delivering now Switch to order menu Price range  \\\n",
              "0                  No                No                   No           3   \n",
              "1                  No                No                   No           3   \n",
              "\n",
              "   Aggregate rating  Rating color Rating text Votes  \n",
              "0               4.8    Dark Green   Excellent   314  \n",
              "1               4.5    Dark Green   Excellent   591  \n",
              "\n",
              "[2 rows x 21 columns]"
            ]
          },
          "execution_count": 2,
          "metadata": {},
          "output_type": "execute_result"
        }
      ],
      "source": [
        "# Read and print the dataset\n",
        "link =\"https://raw.githubusercontent.com/Oyeniran20/axia_class_cohort_7/refs/heads/main/Dataset%20.csv\"\n",
        "df = pd.read_csv(link)\n",
        "df.head(2)"
      ]
    },
    {
      "cell_type": "markdown",
      "metadata": {
        "id": "07xUYtBaV5Wc"
      },
      "source": [
        " # Understanding the data"
      ]
    },
    {
      "cell_type": "code",
      "execution_count": null,
      "metadata": {
        "colab": {
          "base_uri": "https://localhost:8080/"
        },
        "id": "yR6BMTa_Alqk",
        "outputId": "a499aab9-7a6b-40dd-ad30-3acae4272ee8"
      },
      "outputs": [
        {
          "data": {
            "text/plain": [
              "(9551, 21)"
            ]
          },
          "execution_count": 28,
          "metadata": {},
          "output_type": "execute_result"
        }
      ],
      "source": [
        "\n",
        "# checking shape (# of rows and columns)\n",
        "df.shape"
      ]
    },
    {
      "cell_type": "code",
      "execution_count": null,
      "metadata": {
        "colab": {
          "base_uri": "https://localhost:8080/"
        },
        "id": "eILwhsYBAsTv",
        "outputId": "5ec94a6a-cb58-446a-8017-aabe892189e3"
      },
      "outputs": [
        {
          "name": "stdout",
          "output_type": "stream",
          "text": [
            "<class 'pandas.core.frame.DataFrame'>\n",
            "RangeIndex: 9551 entries, 0 to 9550\n",
            "Data columns (total 21 columns):\n",
            " #   Column                Non-Null Count  Dtype  \n",
            "---  ------                --------------  -----  \n",
            " 0   Restaurant ID         9551 non-null   int64  \n",
            " 1   Restaurant Name       9551 non-null   object \n",
            " 2   Country Code          9551 non-null   int64  \n",
            " 3   City                  9551 non-null   object \n",
            " 4   Address               9551 non-null   object \n",
            " 5   Locality              9551 non-null   object \n",
            " 6   Locality Verbose      9551 non-null   object \n",
            " 7   Longitude             9551 non-null   float64\n",
            " 8   Latitude              9551 non-null   float64\n",
            " 9   Cuisines              9542 non-null   object \n",
            " 10  Average Cost for two  9551 non-null   int64  \n",
            " 11  Currency              9551 non-null   object \n",
            " 12  Has Table booking     9551 non-null   object \n",
            " 13  Has Online delivery   9551 non-null   object \n",
            " 14  Is delivering now     9551 non-null   object \n",
            " 15  Switch to order menu  9551 non-null   object \n",
            " 16  Price range           9551 non-null   int64  \n",
            " 17  Aggregate rating      9551 non-null   float64\n",
            " 18  Rating color          9551 non-null   object \n",
            " 19  Rating text           9551 non-null   object \n",
            " 20  Votes                 9551 non-null   int64  \n",
            "dtypes: float64(3), int64(5), object(13)\n",
            "memory usage: 1.5+ MB\n"
          ]
        }
      ],
      "source": [
        "# details about the dataset\n",
        "df.info()"
      ]
    },
    {
      "cell_type": "code",
      "execution_count": null,
      "metadata": {
        "colab": {
          "base_uri": "https://localhost:8080/",
          "height": 300
        },
        "id": "lAPyxmUoA3LB",
        "outputId": "ca2a035f-9f7c-43c3-d89a-36bf57c70caa"
      },
      "outputs": [
        {
          "data": {
            "application/vnd.google.colaboratory.intrinsic+json": {
              "summary": "{\n  \"name\": \"df\",\n  \"rows\": 8,\n  \"fields\": [\n    {\n      \"column\": \"count\",\n      \"properties\": {\n        \"dtype\": \"number\",\n        \"std\": 0.0,\n        \"min\": 9551.0,\n        \"max\": 9551.0,\n        \"num_unique_values\": 1,\n        \"samples\": [\n          9551.0\n        ],\n        \"semantic_type\": \"\",\n        \"description\": \"\"\n      }\n    },\n    {\n      \"column\": \"mean\",\n      \"properties\": {\n        \"dtype\": \"number\",\n        \"std\": 3199982.9498433652,\n        \"min\": 1.804837189823055,\n        \"max\": 9051128.349178096,\n        \"num_unique_values\": 8,\n        \"samples\": [\n          18.365616165846507\n        ],\n        \"semantic_type\": \"\",\n        \"description\": \"\"\n      }\n    },\n    {\n      \"column\": \"std\",\n      \"properties\": {\n        \"dtype\": \"number\",\n        \"std\": 3107435.615778757,\n        \"min\": 0.9056088473975366,\n        \"max\": 8791521.282104313,\n        \"num_unique_values\": 8,\n        \"samples\": [\n          56.750545600949856\n        ],\n        \"semantic_type\": \"\",\n        \"description\": \"\"\n      }\n    },\n    {\n      \"column\": \"min\",\n      \"properties\": {\n        \"dtype\": \"number\",\n        \"std\": 61.95030021860606,\n        \"min\": -157.948486,\n        \"max\": 53.0,\n        \"num_unique_values\": 5,\n        \"samples\": [\n          1.0\n        ],\n        \"semantic_type\": \"\",\n        \"description\": \"\"\n      }\n    },\n    {\n      \"column\": \"25%\",\n      \"properties\": {\n        \"dtype\": \"number\",\n        \"std\": 106741.46101406508,\n        \"min\": 1.0,\n        \"max\": 301962.5,\n        \"num_unique_values\": 7,\n        \"samples\": [\n          301962.5\n        ],\n        \"semantic_type\": \"\",\n        \"description\": \"\"\n      }\n    },\n    {\n      \"column\": \"50%\",\n      \"properties\": {\n        \"dtype\": \"number\",\n        \"std\": 2122738.6038571564,\n        \"min\": 1.0,\n        \"max\": 6004089.0,\n        \"num_unique_values\": 8,\n        \"samples\": [\n          1.0\n        ],\n        \"semantic_type\": \"\",\n        \"description\": \"\"\n      }\n    },\n    {\n      \"column\": \"75%\",\n      \"properties\": {\n        \"dtype\": \"number\",\n        \"std\": 6488467.228991031,\n        \"min\": 1.0,\n        \"max\": 18352291.5,\n        \"num_unique_values\": 8,\n        \"samples\": [\n          1.0\n        ],\n        \"semantic_type\": \"\",\n        \"description\": \"\"\n      }\n    },\n    {\n      \"column\": \"max\",\n      \"properties\": {\n        \"dtype\": \"number\",\n        \"std\": 6505984.878624689,\n        \"min\": 4.0,\n        \"max\": 18500652.0,\n        \"num_unique_values\": 8,\n        \"samples\": [\n          216.0\n        ],\n        \"semantic_type\": \"\",\n        \"description\": \"\"\n      }\n    }\n  ]\n}",
              "type": "dataframe"
            },
            "text/html": [
              "\n",
              "  <div id=\"df-10825ef9-f7bc-4ceb-b874-14971386907f\" class=\"colab-df-container\">\n",
              "    <div>\n",
              "<style scoped>\n",
              "    .dataframe tbody tr th:only-of-type {\n",
              "        vertical-align: middle;\n",
              "    }\n",
              "\n",
              "    .dataframe tbody tr th {\n",
              "        vertical-align: top;\n",
              "    }\n",
              "\n",
              "    .dataframe thead th {\n",
              "        text-align: right;\n",
              "    }\n",
              "</style>\n",
              "<table border=\"1\" class=\"dataframe\">\n",
              "  <thead>\n",
              "    <tr style=\"text-align: right;\">\n",
              "      <th></th>\n",
              "      <th>count</th>\n",
              "      <th>mean</th>\n",
              "      <th>std</th>\n",
              "      <th>min</th>\n",
              "      <th>25%</th>\n",
              "      <th>50%</th>\n",
              "      <th>75%</th>\n",
              "      <th>max</th>\n",
              "    </tr>\n",
              "  </thead>\n",
              "  <tbody>\n",
              "    <tr>\n",
              "      <th>Restaurant ID</th>\n",
              "      <td>9551.000</td>\n",
              "      <td>9051128.349</td>\n",
              "      <td>8791521.282</td>\n",
              "      <td>53.000</td>\n",
              "      <td>301962.500</td>\n",
              "      <td>6004089.000</td>\n",
              "      <td>18352291.500</td>\n",
              "      <td>18500652.000</td>\n",
              "    </tr>\n",
              "    <tr>\n",
              "      <th>Country Code</th>\n",
              "      <td>9551.000</td>\n",
              "      <td>18.366</td>\n",
              "      <td>56.751</td>\n",
              "      <td>1.000</td>\n",
              "      <td>1.000</td>\n",
              "      <td>1.000</td>\n",
              "      <td>1.000</td>\n",
              "      <td>216.000</td>\n",
              "    </tr>\n",
              "    <tr>\n",
              "      <th>Longitude</th>\n",
              "      <td>9551.000</td>\n",
              "      <td>64.127</td>\n",
              "      <td>41.467</td>\n",
              "      <td>-157.948</td>\n",
              "      <td>77.081</td>\n",
              "      <td>77.192</td>\n",
              "      <td>77.282</td>\n",
              "      <td>174.832</td>\n",
              "    </tr>\n",
              "    <tr>\n",
              "      <th>Latitude</th>\n",
              "      <td>9551.000</td>\n",
              "      <td>25.854</td>\n",
              "      <td>11.008</td>\n",
              "      <td>-41.330</td>\n",
              "      <td>28.479</td>\n",
              "      <td>28.570</td>\n",
              "      <td>28.643</td>\n",
              "      <td>55.977</td>\n",
              "    </tr>\n",
              "    <tr>\n",
              "      <th>Average Cost for two</th>\n",
              "      <td>9551.000</td>\n",
              "      <td>1199.211</td>\n",
              "      <td>16121.183</td>\n",
              "      <td>0.000</td>\n",
              "      <td>250.000</td>\n",
              "      <td>400.000</td>\n",
              "      <td>700.000</td>\n",
              "      <td>800000.000</td>\n",
              "    </tr>\n",
              "    <tr>\n",
              "      <th>Price range</th>\n",
              "      <td>9551.000</td>\n",
              "      <td>1.805</td>\n",
              "      <td>0.906</td>\n",
              "      <td>1.000</td>\n",
              "      <td>1.000</td>\n",
              "      <td>2.000</td>\n",
              "      <td>2.000</td>\n",
              "      <td>4.000</td>\n",
              "    </tr>\n",
              "    <tr>\n",
              "      <th>Aggregate rating</th>\n",
              "      <td>9551.000</td>\n",
              "      <td>2.666</td>\n",
              "      <td>1.516</td>\n",
              "      <td>0.000</td>\n",
              "      <td>2.500</td>\n",
              "      <td>3.200</td>\n",
              "      <td>3.700</td>\n",
              "      <td>4.900</td>\n",
              "    </tr>\n",
              "    <tr>\n",
              "      <th>Votes</th>\n",
              "      <td>9551.000</td>\n",
              "      <td>156.910</td>\n",
              "      <td>430.169</td>\n",
              "      <td>0.000</td>\n",
              "      <td>5.000</td>\n",
              "      <td>31.000</td>\n",
              "      <td>131.000</td>\n",
              "      <td>10934.000</td>\n",
              "    </tr>\n",
              "  </tbody>\n",
              "</table>\n",
              "</div>\n",
              "    <div class=\"colab-df-buttons\">\n",
              "\n",
              "  <div class=\"colab-df-container\">\n",
              "    <button class=\"colab-df-convert\" onclick=\"convertToInteractive('df-10825ef9-f7bc-4ceb-b874-14971386907f')\"\n",
              "            title=\"Convert this dataframe to an interactive table.\"\n",
              "            style=\"display:none;\">\n",
              "\n",
              "  <svg xmlns=\"http://www.w3.org/2000/svg\" height=\"24px\" viewBox=\"0 -960 960 960\">\n",
              "    <path d=\"M120-120v-720h720v720H120Zm60-500h600v-160H180v160Zm220 220h160v-160H400v160Zm0 220h160v-160H400v160ZM180-400h160v-160H180v160Zm440 0h160v-160H620v160ZM180-180h160v-160H180v160Zm440 0h160v-160H620v160Z\"/>\n",
              "  </svg>\n",
              "    </button>\n",
              "\n",
              "  <style>\n",
              "    .colab-df-container {\n",
              "      display:flex;\n",
              "      gap: 12px;\n",
              "    }\n",
              "\n",
              "    .colab-df-convert {\n",
              "      background-color: #E8F0FE;\n",
              "      border: none;\n",
              "      border-radius: 50%;\n",
              "      cursor: pointer;\n",
              "      display: none;\n",
              "      fill: #1967D2;\n",
              "      height: 32px;\n",
              "      padding: 0 0 0 0;\n",
              "      width: 32px;\n",
              "    }\n",
              "\n",
              "    .colab-df-convert:hover {\n",
              "      background-color: #E2EBFA;\n",
              "      box-shadow: 0px 1px 2px rgba(60, 64, 67, 0.3), 0px 1px 3px 1px rgba(60, 64, 67, 0.15);\n",
              "      fill: #174EA6;\n",
              "    }\n",
              "\n",
              "    .colab-df-buttons div {\n",
              "      margin-bottom: 4px;\n",
              "    }\n",
              "\n",
              "    [theme=dark] .colab-df-convert {\n",
              "      background-color: #3B4455;\n",
              "      fill: #D2E3FC;\n",
              "    }\n",
              "\n",
              "    [theme=dark] .colab-df-convert:hover {\n",
              "      background-color: #434B5C;\n",
              "      box-shadow: 0px 1px 3px 1px rgba(0, 0, 0, 0.15);\n",
              "      filter: drop-shadow(0px 1px 2px rgba(0, 0, 0, 0.3));\n",
              "      fill: #FFFFFF;\n",
              "    }\n",
              "  </style>\n",
              "\n",
              "    <script>\n",
              "      const buttonEl =\n",
              "        document.querySelector('#df-10825ef9-f7bc-4ceb-b874-14971386907f button.colab-df-convert');\n",
              "      buttonEl.style.display =\n",
              "        google.colab.kernel.accessAllowed ? 'block' : 'none';\n",
              "\n",
              "      async function convertToInteractive(key) {\n",
              "        const element = document.querySelector('#df-10825ef9-f7bc-4ceb-b874-14971386907f');\n",
              "        const dataTable =\n",
              "          await google.colab.kernel.invokeFunction('convertToInteractive',\n",
              "                                                    [key], {});\n",
              "        if (!dataTable) return;\n",
              "\n",
              "        const docLinkHtml = 'Like what you see? Visit the ' +\n",
              "          '<a target=\"_blank\" href=https://colab.research.google.com/notebooks/data_table.ipynb>data table notebook</a>'\n",
              "          + ' to learn more about interactive tables.';\n",
              "        element.innerHTML = '';\n",
              "        dataTable['output_type'] = 'display_data';\n",
              "        await google.colab.output.renderOutput(dataTable, element);\n",
              "        const docLink = document.createElement('div');\n",
              "        docLink.innerHTML = docLinkHtml;\n",
              "        element.appendChild(docLink);\n",
              "      }\n",
              "    </script>\n",
              "  </div>\n",
              "\n",
              "\n",
              "<div id=\"df-86094b22-20cc-4c76-911d-39a67160bb81\">\n",
              "  <button class=\"colab-df-quickchart\" onclick=\"quickchart('df-86094b22-20cc-4c76-911d-39a67160bb81')\"\n",
              "            title=\"Suggest charts\"\n",
              "            style=\"display:none;\">\n",
              "\n",
              "<svg xmlns=\"http://www.w3.org/2000/svg\" height=\"24px\"viewBox=\"0 0 24 24\"\n",
              "     width=\"24px\">\n",
              "    <g>\n",
              "        <path d=\"M19 3H5c-1.1 0-2 .9-2 2v14c0 1.1.9 2 2 2h14c1.1 0 2-.9 2-2V5c0-1.1-.9-2-2-2zM9 17H7v-7h2v7zm4 0h-2V7h2v10zm4 0h-2v-4h2v4z\"/>\n",
              "    </g>\n",
              "</svg>\n",
              "  </button>\n",
              "\n",
              "<style>\n",
              "  .colab-df-quickchart {\n",
              "      --bg-color: #E8F0FE;\n",
              "      --fill-color: #1967D2;\n",
              "      --hover-bg-color: #E2EBFA;\n",
              "      --hover-fill-color: #174EA6;\n",
              "      --disabled-fill-color: #AAA;\n",
              "      --disabled-bg-color: #DDD;\n",
              "  }\n",
              "\n",
              "  [theme=dark] .colab-df-quickchart {\n",
              "      --bg-color: #3B4455;\n",
              "      --fill-color: #D2E3FC;\n",
              "      --hover-bg-color: #434B5C;\n",
              "      --hover-fill-color: #FFFFFF;\n",
              "      --disabled-bg-color: #3B4455;\n",
              "      --disabled-fill-color: #666;\n",
              "  }\n",
              "\n",
              "  .colab-df-quickchart {\n",
              "    background-color: var(--bg-color);\n",
              "    border: none;\n",
              "    border-radius: 50%;\n",
              "    cursor: pointer;\n",
              "    display: none;\n",
              "    fill: var(--fill-color);\n",
              "    height: 32px;\n",
              "    padding: 0;\n",
              "    width: 32px;\n",
              "  }\n",
              "\n",
              "  .colab-df-quickchart:hover {\n",
              "    background-color: var(--hover-bg-color);\n",
              "    box-shadow: 0 1px 2px rgba(60, 64, 67, 0.3), 0 1px 3px 1px rgba(60, 64, 67, 0.15);\n",
              "    fill: var(--button-hover-fill-color);\n",
              "  }\n",
              "\n",
              "  .colab-df-quickchart-complete:disabled,\n",
              "  .colab-df-quickchart-complete:disabled:hover {\n",
              "    background-color: var(--disabled-bg-color);\n",
              "    fill: var(--disabled-fill-color);\n",
              "    box-shadow: none;\n",
              "  }\n",
              "\n",
              "  .colab-df-spinner {\n",
              "    border: 2px solid var(--fill-color);\n",
              "    border-color: transparent;\n",
              "    border-bottom-color: var(--fill-color);\n",
              "    animation:\n",
              "      spin 1s steps(1) infinite;\n",
              "  }\n",
              "\n",
              "  @keyframes spin {\n",
              "    0% {\n",
              "      border-color: transparent;\n",
              "      border-bottom-color: var(--fill-color);\n",
              "      border-left-color: var(--fill-color);\n",
              "    }\n",
              "    20% {\n",
              "      border-color: transparent;\n",
              "      border-left-color: var(--fill-color);\n",
              "      border-top-color: var(--fill-color);\n",
              "    }\n",
              "    30% {\n",
              "      border-color: transparent;\n",
              "      border-left-color: var(--fill-color);\n",
              "      border-top-color: var(--fill-color);\n",
              "      border-right-color: var(--fill-color);\n",
              "    }\n",
              "    40% {\n",
              "      border-color: transparent;\n",
              "      border-right-color: var(--fill-color);\n",
              "      border-top-color: var(--fill-color);\n",
              "    }\n",
              "    60% {\n",
              "      border-color: transparent;\n",
              "      border-right-color: var(--fill-color);\n",
              "    }\n",
              "    80% {\n",
              "      border-color: transparent;\n",
              "      border-right-color: var(--fill-color);\n",
              "      border-bottom-color: var(--fill-color);\n",
              "    }\n",
              "    90% {\n",
              "      border-color: transparent;\n",
              "      border-bottom-color: var(--fill-color);\n",
              "    }\n",
              "  }\n",
              "</style>\n",
              "\n",
              "  <script>\n",
              "    async function quickchart(key) {\n",
              "      const quickchartButtonEl =\n",
              "        document.querySelector('#' + key + ' button');\n",
              "      quickchartButtonEl.disabled = true;  // To prevent multiple clicks.\n",
              "      quickchartButtonEl.classList.add('colab-df-spinner');\n",
              "      try {\n",
              "        const charts = await google.colab.kernel.invokeFunction(\n",
              "            'suggestCharts', [key], {});\n",
              "      } catch (error) {\n",
              "        console.error('Error during call to suggestCharts:', error);\n",
              "      }\n",
              "      quickchartButtonEl.classList.remove('colab-df-spinner');\n",
              "      quickchartButtonEl.classList.add('colab-df-quickchart-complete');\n",
              "    }\n",
              "    (() => {\n",
              "      let quickchartButtonEl =\n",
              "        document.querySelector('#df-86094b22-20cc-4c76-911d-39a67160bb81 button');\n",
              "      quickchartButtonEl.style.display =\n",
              "        google.colab.kernel.accessAllowed ? 'block' : 'none';\n",
              "    })();\n",
              "  </script>\n",
              "</div>\n",
              "\n",
              "    </div>\n",
              "  </div>\n"
            ],
            "text/plain": [
              "                        count        mean         std      min        25%  \\\n",
              "Restaurant ID        9551.000 9051128.349 8791521.282   53.000 301962.500   \n",
              "Country Code         9551.000      18.366      56.751    1.000      1.000   \n",
              "Longitude            9551.000      64.127      41.467 -157.948     77.081   \n",
              "Latitude             9551.000      25.854      11.008  -41.330     28.479   \n",
              "Average Cost for two 9551.000    1199.211   16121.183    0.000    250.000   \n",
              "Price range          9551.000       1.805       0.906    1.000      1.000   \n",
              "Aggregate rating     9551.000       2.666       1.516    0.000      2.500   \n",
              "Votes                9551.000     156.910     430.169    0.000      5.000   \n",
              "\n",
              "                             50%          75%          max  \n",
              "Restaurant ID        6004089.000 18352291.500 18500652.000  \n",
              "Country Code               1.000        1.000      216.000  \n",
              "Longitude                 77.192       77.282      174.832  \n",
              "Latitude                  28.570       28.643       55.977  \n",
              "Average Cost for two     400.000      700.000   800000.000  \n",
              "Price range                2.000        2.000        4.000  \n",
              "Aggregate rating           3.200        3.700        4.900  \n",
              "Votes                     31.000      131.000    10934.000  "
            ]
          },
          "execution_count": 30,
          "metadata": {},
          "output_type": "execute_result"
        }
      ],
      "source": [
        "\n",
        "# for numerical coulmns\n",
        "pd.set_option('display.float_format', '{:.3f}'.format) # formatting to 3 dp\n",
        "df.describe().T"
      ]
    },
    {
      "cell_type": "code",
      "execution_count": null,
      "metadata": {
        "colab": {
          "base_uri": "https://localhost:8080/",
          "height": 457
        },
        "id": "I_c2eVwJBAZC",
        "outputId": "4b11b8db-480c-42a5-9756-d1c4822b59af"
      },
      "outputs": [
        {
          "data": {
            "application/vnd.google.colaboratory.intrinsic+json": {
              "summary": "{\n  \"name\": \"df\",\n  \"rows\": 13,\n  \"fields\": [\n    {\n      \"column\": \"count\",\n      \"properties\": {\n        \"dtype\": \"date\",\n        \"min\": \"9542\",\n        \"max\": \"9551\",\n        \"num_unique_values\": 2,\n        \"samples\": [\n          \"9542\",\n          \"9551\"\n        ],\n        \"semantic_type\": \"\",\n        \"description\": \"\"\n      }\n    },\n    {\n      \"column\": \"unique\",\n      \"properties\": {\n        \"dtype\": \"date\",\n        \"min\": 1,\n        \"max\": 8918,\n        \"num_unique_values\": 10,\n        \"samples\": [\n          1,\n          141\n        ],\n        \"semantic_type\": \"\",\n        \"description\": \"\"\n      }\n    },\n    {\n      \"column\": \"top\",\n      \"properties\": {\n        \"dtype\": \"string\",\n        \"num_unique_values\": 10,\n        \"samples\": [\n          \"Orange\",\n          \"New Delhi\"\n        ],\n        \"semantic_type\": \"\",\n        \"description\": \"\"\n      }\n    },\n    {\n      \"column\": \"freq\",\n      \"properties\": {\n        \"dtype\": \"date\",\n        \"min\": \"11\",\n        \"max\": \"9551\",\n        \"num_unique_values\": 11,\n        \"samples\": [\n          \"8652\",\n          \"83\"\n        ],\n        \"semantic_type\": \"\",\n        \"description\": \"\"\n      }\n    }\n  ]\n}",
              "type": "dataframe"
            },
            "text/html": [
              "\n",
              "  <div id=\"df-95be2afb-1470-4ef4-8a35-14b8edca9a68\" class=\"colab-df-container\">\n",
              "    <div>\n",
              "<style scoped>\n",
              "    .dataframe tbody tr th:only-of-type {\n",
              "        vertical-align: middle;\n",
              "    }\n",
              "\n",
              "    .dataframe tbody tr th {\n",
              "        vertical-align: top;\n",
              "    }\n",
              "\n",
              "    .dataframe thead th {\n",
              "        text-align: right;\n",
              "    }\n",
              "</style>\n",
              "<table border=\"1\" class=\"dataframe\">\n",
              "  <thead>\n",
              "    <tr style=\"text-align: right;\">\n",
              "      <th></th>\n",
              "      <th>count</th>\n",
              "      <th>unique</th>\n",
              "      <th>top</th>\n",
              "      <th>freq</th>\n",
              "    </tr>\n",
              "  </thead>\n",
              "  <tbody>\n",
              "    <tr>\n",
              "      <th>Restaurant Name</th>\n",
              "      <td>9551</td>\n",
              "      <td>7446</td>\n",
              "      <td>Cafe Coffee Day</td>\n",
              "      <td>83</td>\n",
              "    </tr>\n",
              "    <tr>\n",
              "      <th>City</th>\n",
              "      <td>9551</td>\n",
              "      <td>141</td>\n",
              "      <td>New Delhi</td>\n",
              "      <td>5473</td>\n",
              "    </tr>\n",
              "    <tr>\n",
              "      <th>Address</th>\n",
              "      <td>9551</td>\n",
              "      <td>8918</td>\n",
              "      <td>Dilli Haat, INA, New Delhi</td>\n",
              "      <td>11</td>\n",
              "    </tr>\n",
              "    <tr>\n",
              "      <th>Locality</th>\n",
              "      <td>9551</td>\n",
              "      <td>1208</td>\n",
              "      <td>Connaught Place</td>\n",
              "      <td>122</td>\n",
              "    </tr>\n",
              "    <tr>\n",
              "      <th>Locality Verbose</th>\n",
              "      <td>9551</td>\n",
              "      <td>1265</td>\n",
              "      <td>Connaught Place, New Delhi</td>\n",
              "      <td>122</td>\n",
              "    </tr>\n",
              "    <tr>\n",
              "      <th>Cuisines</th>\n",
              "      <td>9542</td>\n",
              "      <td>1825</td>\n",
              "      <td>North Indian</td>\n",
              "      <td>936</td>\n",
              "    </tr>\n",
              "    <tr>\n",
              "      <th>Currency</th>\n",
              "      <td>9551</td>\n",
              "      <td>12</td>\n",
              "      <td>Indian Rupees(Rs.)</td>\n",
              "      <td>8652</td>\n",
              "    </tr>\n",
              "    <tr>\n",
              "      <th>Has Table booking</th>\n",
              "      <td>9551</td>\n",
              "      <td>2</td>\n",
              "      <td>No</td>\n",
              "      <td>8393</td>\n",
              "    </tr>\n",
              "    <tr>\n",
              "      <th>Has Online delivery</th>\n",
              "      <td>9551</td>\n",
              "      <td>2</td>\n",
              "      <td>No</td>\n",
              "      <td>7100</td>\n",
              "    </tr>\n",
              "    <tr>\n",
              "      <th>Is delivering now</th>\n",
              "      <td>9551</td>\n",
              "      <td>2</td>\n",
              "      <td>No</td>\n",
              "      <td>9517</td>\n",
              "    </tr>\n",
              "    <tr>\n",
              "      <th>Switch to order menu</th>\n",
              "      <td>9551</td>\n",
              "      <td>1</td>\n",
              "      <td>No</td>\n",
              "      <td>9551</td>\n",
              "    </tr>\n",
              "    <tr>\n",
              "      <th>Rating color</th>\n",
              "      <td>9551</td>\n",
              "      <td>6</td>\n",
              "      <td>Orange</td>\n",
              "      <td>3737</td>\n",
              "    </tr>\n",
              "    <tr>\n",
              "      <th>Rating text</th>\n",
              "      <td>9551</td>\n",
              "      <td>6</td>\n",
              "      <td>Average</td>\n",
              "      <td>3737</td>\n",
              "    </tr>\n",
              "  </tbody>\n",
              "</table>\n",
              "</div>\n",
              "    <div class=\"colab-df-buttons\">\n",
              "\n",
              "  <div class=\"colab-df-container\">\n",
              "    <button class=\"colab-df-convert\" onclick=\"convertToInteractive('df-95be2afb-1470-4ef4-8a35-14b8edca9a68')\"\n",
              "            title=\"Convert this dataframe to an interactive table.\"\n",
              "            style=\"display:none;\">\n",
              "\n",
              "  <svg xmlns=\"http://www.w3.org/2000/svg\" height=\"24px\" viewBox=\"0 -960 960 960\">\n",
              "    <path d=\"M120-120v-720h720v720H120Zm60-500h600v-160H180v160Zm220 220h160v-160H400v160Zm0 220h160v-160H400v160ZM180-400h160v-160H180v160Zm440 0h160v-160H620v160ZM180-180h160v-160H180v160Zm440 0h160v-160H620v160Z\"/>\n",
              "  </svg>\n",
              "    </button>\n",
              "\n",
              "  <style>\n",
              "    .colab-df-container {\n",
              "      display:flex;\n",
              "      gap: 12px;\n",
              "    }\n",
              "\n",
              "    .colab-df-convert {\n",
              "      background-color: #E8F0FE;\n",
              "      border: none;\n",
              "      border-radius: 50%;\n",
              "      cursor: pointer;\n",
              "      display: none;\n",
              "      fill: #1967D2;\n",
              "      height: 32px;\n",
              "      padding: 0 0 0 0;\n",
              "      width: 32px;\n",
              "    }\n",
              "\n",
              "    .colab-df-convert:hover {\n",
              "      background-color: #E2EBFA;\n",
              "      box-shadow: 0px 1px 2px rgba(60, 64, 67, 0.3), 0px 1px 3px 1px rgba(60, 64, 67, 0.15);\n",
              "      fill: #174EA6;\n",
              "    }\n",
              "\n",
              "    .colab-df-buttons div {\n",
              "      margin-bottom: 4px;\n",
              "    }\n",
              "\n",
              "    [theme=dark] .colab-df-convert {\n",
              "      background-color: #3B4455;\n",
              "      fill: #D2E3FC;\n",
              "    }\n",
              "\n",
              "    [theme=dark] .colab-df-convert:hover {\n",
              "      background-color: #434B5C;\n",
              "      box-shadow: 0px 1px 3px 1px rgba(0, 0, 0, 0.15);\n",
              "      filter: drop-shadow(0px 1px 2px rgba(0, 0, 0, 0.3));\n",
              "      fill: #FFFFFF;\n",
              "    }\n",
              "  </style>\n",
              "\n",
              "    <script>\n",
              "      const buttonEl =\n",
              "        document.querySelector('#df-95be2afb-1470-4ef4-8a35-14b8edca9a68 button.colab-df-convert');\n",
              "      buttonEl.style.display =\n",
              "        google.colab.kernel.accessAllowed ? 'block' : 'none';\n",
              "\n",
              "      async function convertToInteractive(key) {\n",
              "        const element = document.querySelector('#df-95be2afb-1470-4ef4-8a35-14b8edca9a68');\n",
              "        const dataTable =\n",
              "          await google.colab.kernel.invokeFunction('convertToInteractive',\n",
              "                                                    [key], {});\n",
              "        if (!dataTable) return;\n",
              "\n",
              "        const docLinkHtml = 'Like what you see? Visit the ' +\n",
              "          '<a target=\"_blank\" href=https://colab.research.google.com/notebooks/data_table.ipynb>data table notebook</a>'\n",
              "          + ' to learn more about interactive tables.';\n",
              "        element.innerHTML = '';\n",
              "        dataTable['output_type'] = 'display_data';\n",
              "        await google.colab.output.renderOutput(dataTable, element);\n",
              "        const docLink = document.createElement('div');\n",
              "        docLink.innerHTML = docLinkHtml;\n",
              "        element.appendChild(docLink);\n",
              "      }\n",
              "    </script>\n",
              "  </div>\n",
              "\n",
              "\n",
              "<div id=\"df-4a570e5a-83aa-4eb8-9c8b-ed0edd7263da\">\n",
              "  <button class=\"colab-df-quickchart\" onclick=\"quickchart('df-4a570e5a-83aa-4eb8-9c8b-ed0edd7263da')\"\n",
              "            title=\"Suggest charts\"\n",
              "            style=\"display:none;\">\n",
              "\n",
              "<svg xmlns=\"http://www.w3.org/2000/svg\" height=\"24px\"viewBox=\"0 0 24 24\"\n",
              "     width=\"24px\">\n",
              "    <g>\n",
              "        <path d=\"M19 3H5c-1.1 0-2 .9-2 2v14c0 1.1.9 2 2 2h14c1.1 0 2-.9 2-2V5c0-1.1-.9-2-2-2zM9 17H7v-7h2v7zm4 0h-2V7h2v10zm4 0h-2v-4h2v4z\"/>\n",
              "    </g>\n",
              "</svg>\n",
              "  </button>\n",
              "\n",
              "<style>\n",
              "  .colab-df-quickchart {\n",
              "      --bg-color: #E8F0FE;\n",
              "      --fill-color: #1967D2;\n",
              "      --hover-bg-color: #E2EBFA;\n",
              "      --hover-fill-color: #174EA6;\n",
              "      --disabled-fill-color: #AAA;\n",
              "      --disabled-bg-color: #DDD;\n",
              "  }\n",
              "\n",
              "  [theme=dark] .colab-df-quickchart {\n",
              "      --bg-color: #3B4455;\n",
              "      --fill-color: #D2E3FC;\n",
              "      --hover-bg-color: #434B5C;\n",
              "      --hover-fill-color: #FFFFFF;\n",
              "      --disabled-bg-color: #3B4455;\n",
              "      --disabled-fill-color: #666;\n",
              "  }\n",
              "\n",
              "  .colab-df-quickchart {\n",
              "    background-color: var(--bg-color);\n",
              "    border: none;\n",
              "    border-radius: 50%;\n",
              "    cursor: pointer;\n",
              "    display: none;\n",
              "    fill: var(--fill-color);\n",
              "    height: 32px;\n",
              "    padding: 0;\n",
              "    width: 32px;\n",
              "  }\n",
              "\n",
              "  .colab-df-quickchart:hover {\n",
              "    background-color: var(--hover-bg-color);\n",
              "    box-shadow: 0 1px 2px rgba(60, 64, 67, 0.3), 0 1px 3px 1px rgba(60, 64, 67, 0.15);\n",
              "    fill: var(--button-hover-fill-color);\n",
              "  }\n",
              "\n",
              "  .colab-df-quickchart-complete:disabled,\n",
              "  .colab-df-quickchart-complete:disabled:hover {\n",
              "    background-color: var(--disabled-bg-color);\n",
              "    fill: var(--disabled-fill-color);\n",
              "    box-shadow: none;\n",
              "  }\n",
              "\n",
              "  .colab-df-spinner {\n",
              "    border: 2px solid var(--fill-color);\n",
              "    border-color: transparent;\n",
              "    border-bottom-color: var(--fill-color);\n",
              "    animation:\n",
              "      spin 1s steps(1) infinite;\n",
              "  }\n",
              "\n",
              "  @keyframes spin {\n",
              "    0% {\n",
              "      border-color: transparent;\n",
              "      border-bottom-color: var(--fill-color);\n",
              "      border-left-color: var(--fill-color);\n",
              "    }\n",
              "    20% {\n",
              "      border-color: transparent;\n",
              "      border-left-color: var(--fill-color);\n",
              "      border-top-color: var(--fill-color);\n",
              "    }\n",
              "    30% {\n",
              "      border-color: transparent;\n",
              "      border-left-color: var(--fill-color);\n",
              "      border-top-color: var(--fill-color);\n",
              "      border-right-color: var(--fill-color);\n",
              "    }\n",
              "    40% {\n",
              "      border-color: transparent;\n",
              "      border-right-color: var(--fill-color);\n",
              "      border-top-color: var(--fill-color);\n",
              "    }\n",
              "    60% {\n",
              "      border-color: transparent;\n",
              "      border-right-color: var(--fill-color);\n",
              "    }\n",
              "    80% {\n",
              "      border-color: transparent;\n",
              "      border-right-color: var(--fill-color);\n",
              "      border-bottom-color: var(--fill-color);\n",
              "    }\n",
              "    90% {\n",
              "      border-color: transparent;\n",
              "      border-bottom-color: var(--fill-color);\n",
              "    }\n",
              "  }\n",
              "</style>\n",
              "\n",
              "  <script>\n",
              "    async function quickchart(key) {\n",
              "      const quickchartButtonEl =\n",
              "        document.querySelector('#' + key + ' button');\n",
              "      quickchartButtonEl.disabled = true;  // To prevent multiple clicks.\n",
              "      quickchartButtonEl.classList.add('colab-df-spinner');\n",
              "      try {\n",
              "        const charts = await google.colab.kernel.invokeFunction(\n",
              "            'suggestCharts', [key], {});\n",
              "      } catch (error) {\n",
              "        console.error('Error during call to suggestCharts:', error);\n",
              "      }\n",
              "      quickchartButtonEl.classList.remove('colab-df-spinner');\n",
              "      quickchartButtonEl.classList.add('colab-df-quickchart-complete');\n",
              "    }\n",
              "    (() => {\n",
              "      let quickchartButtonEl =\n",
              "        document.querySelector('#df-4a570e5a-83aa-4eb8-9c8b-ed0edd7263da button');\n",
              "      quickchartButtonEl.style.display =\n",
              "        google.colab.kernel.accessAllowed ? 'block' : 'none';\n",
              "    })();\n",
              "  </script>\n",
              "</div>\n",
              "\n",
              "    </div>\n",
              "  </div>\n"
            ],
            "text/plain": [
              "                     count unique                         top  freq\n",
              "Restaurant Name       9551   7446             Cafe Coffee Day    83\n",
              "City                  9551    141                   New Delhi  5473\n",
              "Address               9551   8918  Dilli Haat, INA, New Delhi    11\n",
              "Locality              9551   1208             Connaught Place   122\n",
              "Locality Verbose      9551   1265  Connaught Place, New Delhi   122\n",
              "Cuisines              9542   1825                North Indian   936\n",
              "Currency              9551     12          Indian Rupees(Rs.)  8652\n",
              "Has Table booking     9551      2                          No  8393\n",
              "Has Online delivery   9551      2                          No  7100\n",
              "Is delivering now     9551      2                          No  9517\n",
              "Switch to order menu  9551      1                          No  9551\n",
              "Rating color          9551      6                      Orange  3737\n",
              "Rating text           9551      6                     Average  3737"
            ]
          },
          "execution_count": 31,
          "metadata": {},
          "output_type": "execute_result"
        }
      ],
      "source": [
        "# for categorical coulmns\n",
        "df.describe(include=['object']).T"
      ]
    },
    {
      "cell_type": "markdown",
      "metadata": {
        "id": "D8uCwiAfI2SV"
      },
      "source": []
    },
    {
      "cell_type": "code",
      "execution_count": null,
      "metadata": {
        "colab": {
          "base_uri": "https://localhost:8080/",
          "height": 742
        },
        "id": "mo8MgjXhBNH2",
        "outputId": "abb30623-4b4e-4f35-82e2-7a1a9961826e"
      },
      "outputs": [
        {
          "data": {
            "text/html": [
              "<div>\n",
              "<style scoped>\n",
              "    .dataframe tbody tr th:only-of-type {\n",
              "        vertical-align: middle;\n",
              "    }\n",
              "\n",
              "    .dataframe tbody tr th {\n",
              "        vertical-align: top;\n",
              "    }\n",
              "\n",
              "    .dataframe thead th {\n",
              "        text-align: right;\n",
              "    }\n",
              "</style>\n",
              "<table border=\"1\" class=\"dataframe\">\n",
              "  <thead>\n",
              "    <tr style=\"text-align: right;\">\n",
              "      <th></th>\n",
              "      <th>0</th>\n",
              "    </tr>\n",
              "  </thead>\n",
              "  <tbody>\n",
              "    <tr>\n",
              "      <th>Cuisines</th>\n",
              "      <td>9</td>\n",
              "    </tr>\n",
              "    <tr>\n",
              "      <th>Restaurant ID</th>\n",
              "      <td>0</td>\n",
              "    </tr>\n",
              "    <tr>\n",
              "      <th>Currency</th>\n",
              "      <td>0</td>\n",
              "    </tr>\n",
              "    <tr>\n",
              "      <th>Rating text</th>\n",
              "      <td>0</td>\n",
              "    </tr>\n",
              "    <tr>\n",
              "      <th>Rating color</th>\n",
              "      <td>0</td>\n",
              "    </tr>\n",
              "    <tr>\n",
              "      <th>Aggregate rating</th>\n",
              "      <td>0</td>\n",
              "    </tr>\n",
              "    <tr>\n",
              "      <th>Price range</th>\n",
              "      <td>0</td>\n",
              "    </tr>\n",
              "    <tr>\n",
              "      <th>Switch to order menu</th>\n",
              "      <td>0</td>\n",
              "    </tr>\n",
              "    <tr>\n",
              "      <th>Is delivering now</th>\n",
              "      <td>0</td>\n",
              "    </tr>\n",
              "    <tr>\n",
              "      <th>Has Online delivery</th>\n",
              "      <td>0</td>\n",
              "    </tr>\n",
              "    <tr>\n",
              "      <th>Has Table booking</th>\n",
              "      <td>0</td>\n",
              "    </tr>\n",
              "    <tr>\n",
              "      <th>Average Cost for two</th>\n",
              "      <td>0</td>\n",
              "    </tr>\n",
              "    <tr>\n",
              "      <th>Restaurant Name</th>\n",
              "      <td>0</td>\n",
              "    </tr>\n",
              "    <tr>\n",
              "      <th>Latitude</th>\n",
              "      <td>0</td>\n",
              "    </tr>\n",
              "    <tr>\n",
              "      <th>Longitude</th>\n",
              "      <td>0</td>\n",
              "    </tr>\n",
              "    <tr>\n",
              "      <th>Locality Verbose</th>\n",
              "      <td>0</td>\n",
              "    </tr>\n",
              "    <tr>\n",
              "      <th>Locality</th>\n",
              "      <td>0</td>\n",
              "    </tr>\n",
              "    <tr>\n",
              "      <th>Address</th>\n",
              "      <td>0</td>\n",
              "    </tr>\n",
              "    <tr>\n",
              "      <th>City</th>\n",
              "      <td>0</td>\n",
              "    </tr>\n",
              "    <tr>\n",
              "      <th>Country Code</th>\n",
              "      <td>0</td>\n",
              "    </tr>\n",
              "    <tr>\n",
              "      <th>Votes</th>\n",
              "      <td>0</td>\n",
              "    </tr>\n",
              "  </tbody>\n",
              "</table>\n",
              "</div><br><label><b>dtype:</b> int64</label>"
            ],
            "text/plain": [
              "Cuisines                9\n",
              "Restaurant ID           0\n",
              "Currency                0\n",
              "Rating text             0\n",
              "Rating color            0\n",
              "Aggregate rating        0\n",
              "Price range             0\n",
              "Switch to order menu    0\n",
              "Is delivering now       0\n",
              "Has Online delivery     0\n",
              "Has Table booking       0\n",
              "Average Cost for two    0\n",
              "Restaurant Name         0\n",
              "Latitude                0\n",
              "Longitude               0\n",
              "Locality Verbose        0\n",
              "Locality                0\n",
              "Address                 0\n",
              "City                    0\n",
              "Country Code            0\n",
              "Votes                   0\n",
              "dtype: int64"
            ]
          },
          "execution_count": 32,
          "metadata": {},
          "output_type": "execute_result"
        }
      ],
      "source": [
        "# checking for missing values in each columns and sorting them\n",
        "df.isna().sum().sort_values(ascending = False)"
      ]
    },
    {
      "cell_type": "code",
      "execution_count": null,
      "metadata": {
        "colab": {
          "base_uri": "https://localhost:8080/"
        },
        "id": "C_HrUdDkBnz7",
        "outputId": "5953eea8-ef56-4fae-c924-9927726e37a4"
      },
      "outputs": [
        {
          "data": {
            "text/plain": [
              "9"
            ]
          },
          "execution_count": 33,
          "metadata": {},
          "output_type": "execute_result"
        }
      ],
      "source": [
        "\n",
        "# finding the total missing values\n",
        "df.isna().sum().sum()"
      ]
    },
    {
      "cell_type": "code",
      "execution_count": null,
      "metadata": {
        "colab": {
          "base_uri": "https://localhost:8080/"
        },
        "id": "O55SmLRSJBcf",
        "outputId": "9e412eb0-4c00-4f0c-bcc2-22584b77b9fa"
      },
      "outputs": [
        {
          "data": {
            "text/plain": [
              "0"
            ]
          },
          "execution_count": 34,
          "metadata": {},
          "output_type": "execute_result"
        }
      ],
      "source": [
        "\n",
        "# checking duplicates\n",
        "df.duplicated().sum()"
      ]
    },
    {
      "cell_type": "code",
      "execution_count": null,
      "metadata": {
        "colab": {
          "base_uri": "https://localhost:8080/",
          "height": 35
        },
        "id": "MEvPmOJeB5gM",
        "outputId": "4db27717-cd01-499a-c0ea-2895264127ad"
      },
      "outputs": [
        {
          "data": {
            "application/vnd.google.colaboratory.intrinsic+json": {
              "type": "string"
            },
            "text/plain": [
              "'North Indian'"
            ]
          },
          "execution_count": 35,
          "metadata": {},
          "output_type": "execute_result"
        }
      ],
      "source": [
        "# most freq cuisine\n",
        "df['Cuisines'].mode()[0]"
      ]
    },
    {
      "cell_type": "code",
      "execution_count": null,
      "metadata": {
        "colab": {
          "base_uri": "https://localhost:8080/",
          "height": 147
        },
        "id": "INPCI37VCOhB",
        "outputId": "d5bdf0bb-7a2a-48bc-bd9c-b60162e606d9"
      },
      "outputs": [
        {
          "data": {
            "text/html": [
              "<div>\n",
              "<style scoped>\n",
              "    .dataframe tbody tr th:only-of-type {\n",
              "        vertical-align: middle;\n",
              "    }\n",
              "\n",
              "    .dataframe tbody tr th {\n",
              "        vertical-align: top;\n",
              "    }\n",
              "\n",
              "    .dataframe thead th {\n",
              "        text-align: right;\n",
              "    }\n",
              "</style>\n",
              "<table border=\"1\" class=\"dataframe\">\n",
              "  <thead>\n",
              "    <tr style=\"text-align: right;\">\n",
              "      <th></th>\n",
              "      <th>0</th>\n",
              "    </tr>\n",
              "  </thead>\n",
              "  <tbody>\n",
              "    <tr>\n",
              "      <th>Cuisines</th>\n",
              "      <td>9</td>\n",
              "    </tr>\n",
              "    <tr>\n",
              "      <th>City</th>\n",
              "      <td>0</td>\n",
              "    </tr>\n",
              "  </tbody>\n",
              "</table>\n",
              "</div><br><label><b>dtype:</b> int64</label>"
            ],
            "text/plain": [
              "Cuisines    9\n",
              "City        0\n",
              "dtype: int64"
            ]
          },
          "execution_count": 36,
          "metadata": {},
          "output_type": "execute_result"
        }
      ],
      "source": [
        "\n",
        "df[['Cuisines', 'City']].isnull().sum()"
      ]
    },
    {
      "cell_type": "code",
      "execution_count": null,
      "metadata": {
        "colab": {
          "base_uri": "https://localhost:8080/"
        },
        "id": "YLOet1GECTCz",
        "outputId": "670d9fef-8f9d-4c4f-da78-5235a7157fa7"
      },
      "outputs": [
        {
          "name": "stderr",
          "output_type": "stream",
          "text": [
            "<ipython-input-37-e300f3483ac6>:2: FutureWarning: A value is trying to be set on a copy of a DataFrame or Series through chained assignment using an inplace method.\n",
            "The behavior will change in pandas 3.0. This inplace method will never work because the intermediate object on which we are setting values always behaves as a copy.\n",
            "\n",
            "For example, when doing 'df[col].method(value, inplace=True)', try using 'df.method({col: value}, inplace=True)' or df[col] = df[col].method(value) instead, to perform the operation inplace on the original object.\n",
            "\n",
            "\n",
            "  df[\"Cuisines\"].fillna(df['Cuisines'].mode()[0], inplace=True)\n"
          ]
        }
      ],
      "source": [
        "# filling the missing value spot with the mode\n",
        "df[\"Cuisines\"].fillna(df['Cuisines'].mode()[0], inplace=True)"
      ]
    },
    {
      "cell_type": "code",
      "execution_count": null,
      "metadata": {
        "colab": {
          "base_uri": "https://localhost:8080/"
        },
        "id": "_OYFnwrECXNu",
        "outputId": "ac86e9d7-624d-4ff6-c126-7d8ee42ca849"
      },
      "outputs": [
        {
          "data": {
            "text/plain": [
              "0"
            ]
          },
          "execution_count": 38,
          "metadata": {},
          "output_type": "execute_result"
        }
      ],
      "source": [
        "df.isna().sum().sum()"
      ]
    },
    {
      "cell_type": "code",
      "execution_count": null,
      "metadata": {
        "colab": {
          "base_uri": "https://localhost:8080/"
        },
        "id": "z_xxdPuMCpdN",
        "outputId": "b554df70-5882-4541-ce7a-f2f463fe190f"
      },
      "outputs": [
        {
          "data": {
            "text/plain": [
              "Index(['Restaurant ID', 'Country Code', 'Longitude', 'Latitude',\n",
              "       'Average Cost for two', 'Price range', 'Aggregate rating', 'Votes'],\n",
              "      dtype='object')"
            ]
          },
          "execution_count": 39,
          "metadata": {},
          "output_type": "execute_result"
        }
      ],
      "source": [
        "# numerical columns\n",
        "num_cols = df.select_dtypes(include=np.number).columns\n",
        "num_cols"
      ]
    },
    {
      "cell_type": "code",
      "execution_count": null,
      "metadata": {
        "colab": {
          "base_uri": "https://localhost:8080/"
        },
        "id": "WBgbGRpiCvaK",
        "outputId": "65739368-d7b2-4db4-f43f-4f837eb7199c"
      },
      "outputs": [
        {
          "data": {
            "text/plain": [
              "Index(['Restaurant Name', 'City', 'Address', 'Locality', 'Locality Verbose',\n",
              "       'Cuisines', 'Currency', 'Has Table booking', 'Has Online delivery',\n",
              "       'Is delivering now', 'Switch to order menu', 'Rating color',\n",
              "       'Rating text'],\n",
              "      dtype='object')"
            ]
          },
          "execution_count": 40,
          "metadata": {},
          "output_type": "execute_result"
        }
      ],
      "source": [
        "# categorical columns\n",
        "cat_cols = df.select_dtypes(['object', 'category']).columns\n",
        "cat_cols"
      ]
    },
    {
      "cell_type": "code",
      "execution_count": null,
      "metadata": {
        "id": "sP_pbMxtVmZv"
      },
      "outputs": [],
      "source": []
    },
    {
      "cell_type": "code",
      "execution_count": null,
      "metadata": {
        "id": "0UGNQWds14B4"
      },
      "outputs": [],
      "source": []
    },
    {
      "cell_type": "code",
      "execution_count": null,
      "metadata": {
        "colab": {
          "base_uri": "https://localhost:8080/",
          "height": 429
        },
        "id": "ON8FyuwTC6Ep",
        "outputId": "c2d6ab80-428b-4e9d-ff16-d0131c4b3ca0"
      },
      "outputs": [
        {
          "data": {
            "text/html": [
              "<div>\n",
              "<style scoped>\n",
              "    .dataframe tbody tr th:only-of-type {\n",
              "        vertical-align: middle;\n",
              "    }\n",
              "\n",
              "    .dataframe tbody tr th {\n",
              "        vertical-align: top;\n",
              "    }\n",
              "\n",
              "    .dataframe thead th {\n",
              "        text-align: right;\n",
              "    }\n",
              "</style>\n",
              "<table border=\"1\" class=\"dataframe\">\n",
              "  <thead>\n",
              "    <tr style=\"text-align: right;\">\n",
              "      <th></th>\n",
              "      <th>count</th>\n",
              "    </tr>\n",
              "    <tr>\n",
              "      <th>City</th>\n",
              "      <th></th>\n",
              "    </tr>\n",
              "  </thead>\n",
              "  <tbody>\n",
              "    <tr>\n",
              "      <th>New Delhi</th>\n",
              "      <td>5473</td>\n",
              "    </tr>\n",
              "    <tr>\n",
              "      <th>Gurgaon</th>\n",
              "      <td>1118</td>\n",
              "    </tr>\n",
              "    <tr>\n",
              "      <th>Noida</th>\n",
              "      <td>1080</td>\n",
              "    </tr>\n",
              "    <tr>\n",
              "      <th>Faridabad</th>\n",
              "      <td>251</td>\n",
              "    </tr>\n",
              "    <tr>\n",
              "      <th>Ghaziabad</th>\n",
              "      <td>25</td>\n",
              "    </tr>\n",
              "    <tr>\n",
              "      <th>Bhubaneshwar</th>\n",
              "      <td>21</td>\n",
              "    </tr>\n",
              "    <tr>\n",
              "      <th>Amritsar</th>\n",
              "      <td>21</td>\n",
              "    </tr>\n",
              "    <tr>\n",
              "      <th>Ahmedabad</th>\n",
              "      <td>21</td>\n",
              "    </tr>\n",
              "    <tr>\n",
              "      <th>Lucknow</th>\n",
              "      <td>21</td>\n",
              "    </tr>\n",
              "    <tr>\n",
              "      <th>Guwahati</th>\n",
              "      <td>21</td>\n",
              "    </tr>\n",
              "  </tbody>\n",
              "</table>\n",
              "</div><br><label><b>dtype:</b> int64</label>"
            ],
            "text/plain": [
              "City\n",
              "New Delhi       5473\n",
              "Gurgaon         1118\n",
              "Noida           1080\n",
              "Faridabad        251\n",
              "Ghaziabad         25\n",
              "Bhubaneshwar      21\n",
              "Amritsar          21\n",
              "Ahmedabad         21\n",
              "Lucknow           21\n",
              "Guwahati          21\n",
              "Name: count, dtype: int64"
            ]
          },
          "execution_count": 41,
          "metadata": {},
          "output_type": "execute_result"
        }
      ],
      "source": [
        "\n",
        "\n",
        "# top 10  cuisines\n",
        "top_cuisines = df['Cuisines'].str.split(',').explode().str.strip().value_counts().head(10) # I separated the values\n",
        "top_cuisines\n",
        "# top 10  cities\n",
        "top_city = df['City'].value_counts().head(10)\n",
        "top_city"
      ]
    },
    {
      "cell_type": "code",
      "execution_count": null,
      "metadata": {
        "colab": {
          "base_uri": "https://localhost:8080/",
          "height": 1000
        },
        "id": "5pn3eCIKXVU4",
        "outputId": "d8aca351-95df-4e36-b6cf-96dd45d9f98c"
      },
      "outputs": [
        {
          "data": {
            "image/png": "[encoded data removed]",
            "text/plain": [
              "<Figure size 800x500 with 1 Axes>"
            ]
          },
          "metadata": {},
          "output_type": "display_data"
        },
        {
          "name": "stdout",
          "output_type": "stream",
          "text": [
            "\n",
            "Aggregate Rating Distribution:\n",
            "Aggregate rating\n",
            "0.000    2148\n",
            "1.800       1\n",
            "1.900       2\n",
            "2.000       7\n",
            "2.100      15\n",
            "2.200      27\n",
            "2.300      47\n",
            "2.400      87\n",
            "2.500     110\n",
            "2.600     191\n",
            "2.700     250\n",
            "2.800     315\n",
            "2.900     381\n",
            "3.000     468\n",
            "3.100     519\n",
            "3.200     522\n",
            "3.300     483\n",
            "3.400     498\n",
            "3.500     480\n",
            "3.600     458\n",
            "3.700     427\n",
            "3.800     400\n",
            "3.900     335\n",
            "4.000     266\n",
            "4.100     274\n",
            "4.200     221\n",
            "4.300     174\n",
            "4.400     144\n",
            "4.500      95\n",
            "4.600      78\n",
            "4.700      42\n",
            "4.800      25\n",
            "4.900      61\n",
            "Name: count, dtype: int64\n"
          ]
        }
      ],
      "source": [
        "# Analyzing Aggregate Rating distribution\n",
        "plt.figure(figsize=(8, 5))\n",
        "sns.histplot(df[\"Aggregate rating\"], bins=10, kde=True)\n",
        "plt.xlabel(\"Aggregate rating\")\n",
        "plt.ylabel(\"Frequency\")\n",
        "plt.title(\"Distribution of Aggregate Rating\")\n",
        "plt.grid(axis='y', linestyle='--', alpha=0.7)\n",
        "plt.show()\n",
        "\n",
        "# Checking value counts to analyze class imbalance\n",
        "rating_distribution = df[\"Aggregate rating\"].value_counts().sort_index()\n",
        "print(\"\\nAggregate Rating Distribution:\")\n",
        "print(rating_distribution)\n"
      ]
    },
    {
      "cell_type": "code",
      "execution_count": null,
      "metadata": {
        "colab": {
          "base_uri": "https://localhost:8080/",
          "height": 429
        },
        "id": "Ux0C0MjZDayo",
        "outputId": "ccb9c5ce-afea-41af-c15a-50f40cdfe2e3"
      },
      "outputs": [
        {
          "data": {
            "text/html": [
              "<div>\n",
              "<style scoped>\n",
              "    .dataframe tbody tr th:only-of-type {\n",
              "        vertical-align: middle;\n",
              "    }\n",
              "\n",
              "    .dataframe tbody tr th {\n",
              "        vertical-align: top;\n",
              "    }\n",
              "\n",
              "    .dataframe thead th {\n",
              "        text-align: right;\n",
              "    }\n",
              "</style>\n",
              "<table border=\"1\" class=\"dataframe\">\n",
              "  <thead>\n",
              "    <tr style=\"text-align: right;\">\n",
              "      <th></th>\n",
              "      <th>count</th>\n",
              "    </tr>\n",
              "    <tr>\n",
              "      <th>City</th>\n",
              "      <th></th>\n",
              "    </tr>\n",
              "  </thead>\n",
              "  <tbody>\n",
              "    <tr>\n",
              "      <th>New Delhi</th>\n",
              "      <td>5473</td>\n",
              "    </tr>\n",
              "    <tr>\n",
              "      <th>Gurgaon</th>\n",
              "      <td>1118</td>\n",
              "    </tr>\n",
              "    <tr>\n",
              "      <th>Noida</th>\n",
              "      <td>1080</td>\n",
              "    </tr>\n",
              "    <tr>\n",
              "      <th>Faridabad</th>\n",
              "      <td>251</td>\n",
              "    </tr>\n",
              "    <tr>\n",
              "      <th>Ghaziabad</th>\n",
              "      <td>25</td>\n",
              "    </tr>\n",
              "    <tr>\n",
              "      <th>Bhubaneshwar</th>\n",
              "      <td>21</td>\n",
              "    </tr>\n",
              "    <tr>\n",
              "      <th>Amritsar</th>\n",
              "      <td>21</td>\n",
              "    </tr>\n",
              "    <tr>\n",
              "      <th>Ahmedabad</th>\n",
              "      <td>21</td>\n",
              "    </tr>\n",
              "    <tr>\n",
              "      <th>Lucknow</th>\n",
              "      <td>21</td>\n",
              "    </tr>\n",
              "    <tr>\n",
              "      <th>Guwahati</th>\n",
              "      <td>21</td>\n",
              "    </tr>\n",
              "  </tbody>\n",
              "</table>\n",
              "</div><br><label><b>dtype:</b> int64</label>"
            ],
            "text/plain": [
              "City\n",
              "New Delhi       5473\n",
              "Gurgaon         1118\n",
              "Noida           1080\n",
              "Faridabad        251\n",
              "Ghaziabad         25\n",
              "Bhubaneshwar      21\n",
              "Amritsar          21\n",
              "Ahmedabad         21\n",
              "Lucknow           21\n",
              "Guwahati          21\n",
              "Name: count, dtype: int64"
            ]
          },
          "execution_count": 43,
          "metadata": {},
          "output_type": "execute_result"
        }
      ],
      "source": [
        "# top 10  cities\n",
        "top_city = df['City'].value_counts().head(10)\n",
        "top_city"
      ]
    },
    {
      "cell_type": "code",
      "execution_count": null,
      "metadata": {
        "colab": {
          "base_uri": "https://localhost:8080/"
        },
        "id": "_MXLGlRUDmw2",
        "outputId": "fc6d8ad0-93fa-4ab6-c6b1-cc93dadf9cfa"
      },
      "outputs": [
        {
          "name": "stdout",
          "output_type": "stream",
          "text": [
            "Restaurant ID \n",
            " Skew = 0.061569976479250714\n",
            "Country Code \n",
            " Skew = 3.043965346403779\n",
            "Longitude \n",
            " Skew = -2.8073278338140857\n",
            "Latitude \n",
            " Skew = -3.08163535060857\n",
            "Average Cost for two \n",
            " Skew = 35.477914900871276\n",
            "Price range \n",
            " Skew = 0.8896175931442\n",
            "Aggregate rating \n",
            " Skew = -0.9541304733200109\n",
            "Votes \n",
            " Skew = 8.807636687709472\n"
          ]
        }
      ],
      "source": [
        "#checking for skewness and inbalance for numerical columns\n",
        "# before applying the sqrt\n",
        "for col in num_cols:\n",
        "    skewness = df[col].skew()\n",
        "    print(f'{col} \\n Skew = {skewness}')"
      ]
    },
    {
      "cell_type": "code",
      "execution_count": null,
      "metadata": {
        "colab": {
          "base_uri": "https://localhost:8080/"
        },
        "id": "he3MquAcOdzm",
        "outputId": "63c6d357-efe0-44aa-cb79-98b1ae172c87"
      },
      "outputs": [
        {
          "name": "stdout",
          "output_type": "stream",
          "text": [
            "Restaurant ID \n",
            " Skew = -0.04447115340657841\n",
            "Country Code \n",
            " Skew = 2.960356535483066\n",
            "Longitude \n",
            " Skew = -3.4414938224093645\n",
            "Latitude \n",
            " Skew = -3.2881814527542654\n",
            "Average Cost for two \n",
            " Skew = 19.649105873942954\n",
            "Price range \n",
            " Skew = 0.584859433949503\n",
            "Aggregate rating \n",
            " Skew = -1.2180856619500915\n",
            "Votes \n",
            " Skew = 2.518921597172645\n"
          ]
        }
      ],
      "source": [
        "# applying the sqrt\n",
        "df = df[num_cols].apply(np.sqrt)\n",
        "for col in num_cols:\n",
        "    skewness = df[col].skew()\n",
        "    print(f'{col} \\n Skew = {skewness}')"
      ]
    },
    {
      "cell_type": "markdown",
      "metadata": {
        "id": "GtSd4kNwRlFm"
      },
      "source": [
        "# *Key Inferences*\n",
        "### The dataset has 9551 columns and 21 rows\n",
        "### its has 9 missing values, all from cuisine (which i replaced with the mode of the column)\n",
        "### There are 8 numerical columns and 13 categorical columns\n",
        "### All columns are in a correct data type (no need for converion)\n",
        "### For the descriptive statistics for the numerical columns, columns \"Average cost for two\" has a huge discrepency, it has a min of 0 and 800k which suspicious\n",
        "### There are no duplicated values\n",
        "### For the descriptive statistics for the categorical columns,(count,    unique ,    top , freq)\n",
        "### For the \"Cuisines\" column, there is a problem of some cuisines not been separted and are counted as 1, which is a properly in our analysis\n",
        "### I corrected the blunder by using the \".str.split(',').explode().str.strip()\", and then count the top 10 and the top then cities\n",
        "### For the skewness and outlier detections; Variables like Country Code, Average Cost for Two, and Votes have a strong positive skew, meaning a small number of values are much larger than the rest.\n",
        "### Latitude and Longitude have a strong negative skew, suggesting a concentration of data points in certain locations.\n",
        "### Aggregate Rating and Price Range have mild skewness, indicating slight asymmetry but not extreme.\n",
        "### Restaurant ID is nearly symmetrical.\n",
        "### For the outliers i decided to use sqrt to minimise there effect, idk whether to remove them or not. i applied on the numerical columns\n",
        "## want to hear your views"
      ]
    },
    {
      "cell_type": "markdown",
      "metadata": {
        "id": "AvYDoiI20Dkc"
      },
      "source": [
        "# **Week 2: Data Visualization**\n",
        "\n",
        "Create histograms,\n",
        "bar plots, and box\n",
        "plots of ratings.\n",
        "Compare average *italicized text*\n",
        "ratings across\n",
        "cuisines and cities.\n",
        "\n",
        " Map restaurant\n",
        "locations using\n",
        "coordinates.\n",
        "Analyze distribution\n",
        "across cities.\n",
        "Correlate location\n",
        "with ratings\n",
        "\n",
        " Identify outliers and\n",
        "their effects.\n",
        "Determine\n",
        "relationship\n",
        "between votes and\n",
        "ratings.\n",
        "**bold text**"
      ]
    },
    {
      "cell_type": "code",
      "execution_count": null,
      "metadata": {
        "id": "PeDPQKudSAxD"
      },
      "outputs": [],
      "source": []
    },
    {
      "cell_type": "markdown",
      "metadata": {
        "id": "G4PXS5n2SBrs"
      },
      "source": [
        "Create histograms,\n",
        "bar plots, and box\n",
        "plots of ratings.\n",
        "Compare average\n",
        "ratings across\n",
        "cuisines and cities."
      ]
    },
    {
      "cell_type": "code",
      "execution_count": null,
      "metadata": {
        "colab": {
          "base_uri": "https://localhost:8080/",
          "height": 1000
        },
        "id": "By8Xcost0YHA",
        "outputId": "4de562ec-c2cb-4ec8-f589-7717a356d76d"
      },
      "outputs": [
        {
          "data": {
            "image/png": "[encoded data removed]",
            "text/plain": [
              "<Figure size 1000x500 with 1 Axes>"
            ]
          },
          "metadata": {},
          "output_type": "display_data"
        },
        {
          "data": {
            "image/png": "[encoded data removed]",
            "text/plain": [
              "<Figure size 1000x500 with 1 Axes>"
            ]
          },
          "metadata": {},
          "output_type": "display_data"
        },
        {
          "data": {
            "image/png": "[encoded data removed]",
            "text/plain": [
              "<Figure size 1000x500 with 1 Axes>"
            ]
          },
          "metadata": {},
          "output_type": "display_data"
        },
        {
          "data": {
            "image/png": "[encoded data removed]",
            "text/plain": [
              "<Figure size 1000x500 with 1 Axes>"
            ]
          },
          "metadata": {},
          "output_type": "display_data"
        }
      ],
      "source": [
        "# Creating histograms, bar plots, and box plots of ratings\n",
        "plt.figure(figsize=(10, 5))\n",
        "sns.histplot(df[\"Aggregate rating\"], bins=10, kde=True)\n",
        "plt.xlabel(\"Aggregate rating\")\n",
        "plt.ylabel(\"Frequency\")\n",
        "plt.title(\"Histogram of Aggregate rating\")\n",
        "plt.grid(axis='y', linestyle='--', alpha=0.7)\n",
        "plt.show()\n",
        "\n",
        "plt.figure(figsize=(10, 5))\n",
        "sns.boxplot(x=df[\"Aggregate rating\"])\n",
        "plt.xlabel(\"Aggregate rating\")\n",
        "plt.title(\"Box Plot of Aggregate rating\")\n",
        "plt.show()\n",
        "\n",
        "plt.figure(figsize=(10, 5))\n",
        "sns.barplot(x=top_cuisines.index, y=top_cuisines.values)\n",
        "plt.xlabel(\"Cuisines\")\n",
        "plt.ylabel(\"Count\")\n",
        "plt.title(\"Top 5 Cuisines by Count\")\n",
        "plt.xticks(rotation=45)\n",
        "plt.show()\n",
        "\n",
        "plt.figure(figsize=(10, 5))\n",
        "sns.barplot(x=top_city.index, y=top_city.values)\n",
        "plt.xlabel(\"Cities\")\n",
        "plt.ylabel(\"Count\")\n",
        "plt.title(\"Top 5 Cities by Count\")\n",
        "plt.xticks(rotation=45)\n",
        "plt.show()\n",
        "\n",
        "\n"
      ]
    },
    {
      "cell_type": "code",
      "execution_count": null,
      "metadata": {
        "colab": {
          "base_uri": "https://localhost:8080/"
        },
        "id": "SmqAgDtVVbRj",
        "outputId": "b4e6de31-dcac-4d99-8447-ef59786b971c"
      },
      "outputs": [
        {
          "data": {
            "text/plain": [
              "Index(['Restaurant ID', 'Country Code', 'Longitude', 'Latitude',\n",
              "       'Average Cost for two', 'Price range', 'Aggregate rating', 'Votes'],\n",
              "      dtype='object')"
            ]
          },
          "execution_count": 49,
          "metadata": {},
          "output_type": "execute_result"
        }
      ],
      "source": [
        "df.columns"
      ]
    },
    {
      "cell_type": "code",
      "execution_count": null,
      "metadata": {
        "colab": {
          "base_uri": "https://localhost:8080/"
        },
        "id": "guZKvjli83BG",
        "outputId": "1f92a681-36f3-4dab-9d6e-9f5386e43a7f"
      },
      "outputs": [
        {
          "name": "stdout",
          "output_type": "stream",
          "text": [
            "Index(['Restaurant ID', 'Country Code', 'Longitude', 'Latitude',\n",
            "       'Average Cost for two', 'Price range', 'Aggregate rating', 'Votes',\n",
            "       'geometry'],\n",
            "      dtype='object')\n"
          ]
        }
      ],
      "source": [
        "print(df.columns)"
      ]
    },
    {
      "cell_type": "code",
      "execution_count": null,
      "metadata": {
        "colab": {
          "base_uri": "https://localhost:8080/"
        },
        "id": "VyLEudPC9Kzr",
        "outputId": "9ca29a39-11b6-4220-ff84-e977709e5d8a"
      },
      "outputs": [
        {
          "name": "stdout",
          "output_type": "stream",
          "text": [
            "Restaurant ID           float64\n",
            "Country Code            float64\n",
            "Longitude               float64\n",
            "Latitude                float64\n",
            "Average Cost for two    float64\n",
            "Price range             float64\n",
            "Aggregate rating        float64\n",
            "Votes                   float64\n",
            "geometry                 object\n",
            "dtype: object\n"
          ]
        }
      ],
      "source": [
        "print(df.dtypes)\n"
      ]
    },
    {
      "cell_type": "code",
      "execution_count": null,
      "metadata": {
        "colab": {
          "base_uri": "https://localhost:8080/"
        },
        "id": "4fhwGU6v0CN_",
        "outputId": "56fbbe8e-d2d9-4253-9ac9-7a38ad981c9b"
      },
      "outputs": [
        {
          "name": "stdout",
          "output_type": "stream",
          "text": [
            "\n",
            "Top 10 Cuisines by Average Rating:\n",
            "Cuisines\n",
            "Burger, Bar Food, Steak            4.9\n",
            "American, Burger, Grill            4.9\n",
            "American, Caribbean, Seafood       4.9\n",
            "American, Coffee and Tea           4.9\n",
            "Mexican, American, Healthy Food    4.9\n",
            "Italian, Bakery, Continental       4.9\n",
            "BBQ, Breakfast, Southern           4.9\n",
            "European, German                   4.9\n",
            "Hawaiian, Seafood                  4.9\n",
            "Sunda, Indonesian                  4.9\n",
            "Name: Aggregate rating, dtype: float64\n"
          ]
        }
      ],
      "source": [
        "# Comparing average ratings across cuisines and cities\n",
        "avg_rating_cuisines = df.groupby(\"Cuisines\")[\"Aggregate rating\"].mean().sort_values(ascending=False).head(10)\n",
        "print(\"\\nTop 10 Cuisines by Average Rating:\")\n",
        "print(avg_rating_cuisines)\n"
      ]
    },
    {
      "cell_type": "code",
      "execution_count": null,
      "metadata": {
        "colab": {
          "base_uri": "https://localhost:8080/"
        },
        "id": "p4ltn5NNUKS1",
        "outputId": "a06c752c-72d6-477d-92b2-87322f46e7f0"
      },
      "outputs": [
        {
          "name": "stdout",
          "output_type": "stream",
          "text": [
            "\n",
            "Top 10 Cities by Average Rating:\n",
            "City\n",
            "Inner City          4.900000\n",
            "Quezon City         4.800000\n",
            "Makati City         4.650000\n",
            "Pasig City          4.633333\n",
            "Mandaluyong City    4.625000\n",
            "Beechworth          4.600000\n",
            "London              4.535000\n",
            "Taguig City         4.525000\n",
            "Secunderabad        4.500000\n",
            "Lincoln             4.500000\n",
            "Name: Aggregate rating, dtype: float64\n"
          ]
        }
      ],
      "source": [
        "avg_rating_cities = df.groupby(\"City\")[\"Aggregate rating\"].mean().sort_values(ascending=False).head(10)\n",
        "print(\"\\nTop 10 Cities by Average Rating:\")\n",
        "print(avg_rating_cities)\n"
      ]
    },
    {
      "cell_type": "markdown",
      "metadata": {
        "id": "tdGkJfrX_2Om"
      },
      "source": [
        "## ***Geospatial Analysis***\n",
        "\n",
        "Map restaurant\n",
        "locations using\n",
        "coordinates.\n",
        "\n",
        "Analyze distribution\n",
        "across cities.\n",
        "Correlate location\n",
        "with ratings\n",
        "\n",
        "\n"
      ]
    },
    {
      "cell_type": "markdown",
      "metadata": {
        "id": "baD32SVdWmZD"
      },
      "source": [
        "Map restaurant locations using coordinates. Analyze distribution across cities. Correlate location with ratings"
      ]
    },
    {
      "cell_type": "code",
      "execution_count": null,
      "metadata": {
        "colab": {
          "base_uri": "https://localhost:8080/"
        },
        "id": "iLR013FxabCe",
        "outputId": "f5bdeb49-1dc9-4733-d085-3e7131cb861a"
      },
      "outputs": [
        {
          "name": "stdout",
          "output_type": "stream",
          "text": [
            "Requirement already satisfied: geopandas in /usr/local/lib/python3.11/dist-packages (1.0.1)\n",
            "Requirement already satisfied: shapely in /usr/local/lib/python3.11/dist-packages (2.0.7)\n",
            "Requirement already satisfied: numpy>=1.22 in /usr/local/lib/python3.11/dist-packages (from geopandas) (1.26.4)\n",
            "Requirement already satisfied: pyogrio>=0.7.2 in /usr/local/lib/python3.11/dist-packages (from geopandas) (0.10.0)\n",
            "Requirement already satisfied: packaging in /usr/local/lib/python3.11/dist-packages (from geopandas) (24.2)\n",
            "Requirement already satisfied: pandas>=1.4.0 in /usr/local/lib/python3.11/dist-packages (from geopandas) (2.2.2)\n",
            "Requirement already satisfied: pyproj>=3.3.0 in /usr/local/lib/python3.11/dist-packages (from geopandas) (3.7.1)\n",
            "Requirement already satisfied: python-dateutil>=2.8.2 in /usr/local/lib/python3.11/dist-packages (from pandas>=1.4.0->geopandas) (2.8.2)\n",
            "Requirement already satisfied: pytz>=2020.1 in /usr/local/lib/python3.11/dist-packages (from pandas>=1.4.0->geopandas) (2025.1)\n",
            "Requirement already satisfied: tzdata>=2022.7 in /usr/local/lib/python3.11/dist-packages (from pandas>=1.4.0->geopandas) (2025.1)\n",
            "Requirement already satisfied: certifi in /usr/local/lib/python3.11/dist-packages (from pyogrio>=0.7.2->geopandas) (2025.1.31)\n",
            "Requirement already satisfied: six>=1.5 in /usr/local/lib/python3.11/dist-packages (from python-dateutil>=2.8.2->pandas>=1.4.0->geopandas) (1.17.0)\n"
          ]
        }
      ],
      "source": [
        "!pip install geopandas shapely"
      ]
    },
    {
      "cell_type": "code",
      "execution_count": null,
      "metadata": {
        "colab": {
          "background_save": true,
          "base_uri": "https://localhost:8080/",
          "height": 882
        },
        "id": "DobA7ydqCYOK",
        "outputId": "75644bf1-5115-4729-ab11-784a7293eb7d"
      },
      "outputs": [],
      "source": [
        "import pandas as pd\n",
        "import geopandas as gpd\n",
        "import folium\n",
        "import zipfile\n",
        "import os\n",
        "from shapely.geometry import Point\n",
        "from google.colab import files\n",
        "\n",
        "# Map Restaurants by Rating\n",
        "\n",
        "\n",
        "#  Upload ZIP file\n",
        "\n",
        "uploaded = files.upload()\n",
        "for filename in uploaded:\n",
        "    if filename.endswith(\".zip\"):\n",
        "        with zipfile.ZipFile(filename, \"r\") as zip_ref:\n",
        "            zip_ref.extractall(\"shapefile_data\")\n",
        "        print(f\"Unzipped {filename} into 'shapefile_data' folder.\")\n",
        "        break\n",
        "\n",
        "# Check if data got Longitude, Latitude, and Rating\n",
        "if not {\"Longitude\", \"Latitude\", \"Aggregate rating\"}.issubset(df.columns):\n",
        "    print(\"Error: Dataset missing important column (Longitude, Latitude, or Rating).\")\n",
        "else:\n",
        "    #  Convert to map points\n",
        "    df[\"geometry\"] = [Point(xy) for xy in zip(df[\"Longitude\"], df[\"Latitude\"])]\n",
        "    gdf = gpd.GeoDataFrame(df, geometry=\"geometry\")\n",
        "\n",
        "    #  Find the .shp file in the folder\n",
        "    shapefile_path = None\n",
        "    for file in os.listdir(\"shapefile_data\"):\n",
        "        if file.endswith(\".shp\"):\n",
        "            shapefile_path = os.path.join(\"shapefile_data\", file)\n",
        "            break\n",
        "\n",
        "    if shapefile_path:\n",
        "        try:\n",
        "            #  Load the map (shapefile)\n",
        "            world = gpd.read_file(shapefile_path)\n",
        "        except FileNotFoundError:\n",
        "            print(\"Error: Shapefile not found, maybe check ZIP file?\")\n",
        "        except ValueError:\n",
        "            print(\"Error: Can’t read shapefile, something wrong.\")\n",
        "        else:\n",
        "            #  Make map, focus on restaurant area\n",
        "            center_lat, center_lon = gdf[\"Latitude\"].mean(), gdf[\"Longitude\"].mean()\n",
        "            my_map = folium.Map(location=[center_lat, center_lon], zoom_start=4, tiles=\"CartoDB positron\")\n",
        "\n",
        "            # Add country shape to map\n",
        "            folium.GeoJson(\n",
        "                world,\n",
        "                style_function=lambda x: {\n",
        "                    \"fillColor\": \"lightblue\",\n",
        "                    \"color\": \"black\",\n",
        "                    \"weight\": 0.5,\n",
        "                    \"fillOpacity\": 0.4,\n",
        "                },\n",
        "            ).add_to(my_map)\n",
        "\n",
        "            #  Function to set marker color based on rating\n",
        "            def get_color(rating):\n",
        "                if rating >= 4.5:\n",
        "                    return \"green\"  # Very good\n",
        "                elif 3.0 <= rating < 4.5:\n",
        "                    return \"yellow\"  # Okay\n",
        "                else:\n",
        "                    return \"red\"  # Not good\n",
        "\n",
        "            #  Add restaurants to map\n",
        "            for _, row in gdf.iterrows():\n",
        "                name = row.get(\"Restaurant Name\", row.get(\"Restaurant\", \"Unknown\"))\n",
        "                rating = row.get(\"Aggregate rating\", 0)  # If no rating, assume 0\n",
        "                color = get_color(rating)\n",
        "\n",
        "                folium.CircleMarker(\n",
        "                    location=[row[\"Latitude\"], row[\"Longitude\"]],\n",
        "                    radius=5,\n",
        "                    color=color,\n",
        "                    fill=True,\n",
        "                    fill_color=color,\n",
        "                    fill_opacity=0.7,\n",
        "                    popup=f\"Restaurant: {name}<br>Rating: {rating}\",\n",
        "                ).add_to(my_map)\n",
        "\n",
        "            #  Show map\n",
        "            display(my_map)\n",
        "\n",
        "            # Find correlation (does location affect rating?)\n",
        "            correlation = df[[\"Longitude\", \"Latitude\", \"Aggregate rating\"]].corr()\n",
        "            print(\"Correlation Matrix:\\n\", correlation)\n",
        "\n",
        "    else:\n",
        "        print(\"No .shp file found in the folder. Try again?\")\n",
        "\n"
      ]
    },
    {
      "cell_type": "markdown",
      "metadata": {
        "id": "Wdv6WymaK0qi"
      },
      "source": [
        "MAP analysis and inferences\n",
        "\n",
        "I separated them using colors, using three categories showing the strength of the Aggregate rating,if rating >= 4.5:\n",
        "                    return \"green\" ,Very good\n",
        "                elif 3.0 <= rating < 4.5:\n",
        "                    return \"yellow\" , Okay\n",
        "                else:\n",
        "                    return \"red\"  , Not good.\n",
        "\n",
        "Many of the resturants are found in india and few are in africa.\n",
        "\n",
        "They have a very correlation, latitude, longitude and Aggregate ratng\n"
      ]
    },
    {
      "cell_type": "markdown",
      "metadata": {
        "id": "wEPyMslnC08P"
      },
      "source": [
        "### ***Additional Analysis***\n",
        "Identify outliers and\n",
        "their effects.\n",
        "\n",
        "Determine\n",
        "relationship\n",
        "between votes and\n",
        "ratings."
      ]
    },
    {
      "cell_type": "markdown",
      "metadata": {
        "id": "tbUV2QdbHTQW"
      },
      "source": [
        "Identify outliers and their effects. Determine relationship between votes and ratings."
      ]
    },
    {
      "cell_type": "code",
      "execution_count": null,
      "metadata": {
        "id": "I16VuhhAfC2U"
      },
      "outputs": [],
      "source": [
        "# Checking summary statistics\n",
        "print(df[['Votes', 'Aggregate rating']].describe())\n",
        "\n",
        "# Boxplot to visualize outliers\n",
        "plt.figure(figsize=(9,6))\n",
        "sns.boxplot(data=df[['Votes', 'Aggregate rating']])\n",
        "plt.title(\"Boxplot of Votes and Ratings (Detecting Outliers)\")\n",
        "plt.show()\n",
        "\n",
        "# IQR Method to Identify Outliers\n",
        "Q1 = df[['Votes', 'Aggregate rating']].quantile(0.25)\n",
        "Q3 = df[['Votes', 'Aggregate rating']].quantile(0.75)\n",
        "IQR = Q3 - Q1\n",
        "\n",
        "outliers = df[((df[['Votes', 'Aggregate rating']] < (Q1 - 1.5 * IQR)) | (df[['Votes', 'Aggregate rating']] > (Q3 + 1.5 * IQR))).any(axis=1)]\n",
        "print(\"Detected Outliers:\")\n",
        "print(outliers)\n"
      ]
    },
    {
      "cell_type": "code",
      "execution_count": null,
      "metadata": {
        "id": "doioJqZKx-Yg"
      },
      "outputs": [],
      "source": [
        "# Boxplots to visualize outliers\n",
        "plt.figure(figsize=(12, 5))\n",
        "\n",
        "plt.subplot(1, 2, 1)\n",
        "sns.boxplot(x=df[\"Aggregate rating\"])\n",
        "plt.title(\"Boxplot of Aggregate Rating\")\n",
        "\n",
        "plt.subplot(1, 2, 2)\n",
        "sns.boxplot(x=df[\"Votes\"])\n",
        "plt.title(\"Boxplot of Votes\")\n",
        "\n",
        "plt.show()\n"
      ]
    },
    {
      "cell_type": "code",
      "execution_count": null,
      "metadata": {
        "id": "kM19F7vuystU"
      },
      "outputs": [],
      "source": [
        "# Select numerical columns for outlier analysis\n",
        "num_cols = [\"Aggregate rating\", \"Votes\"]\n",
        "\n",
        "# Compute IQR for numerical columns\n",
        "Q1 = df[num_cols].quantile(0.25)\n",
        "Q3 = df[num_cols].quantile(0.75)\n",
        "IQR = Q3 - Q1\n",
        "\n",
        "# Define outliers\n",
        "outliers = ((df[num_cols] < (Q1 - 1.5 * IQR)) | (df[num_cols] > (Q3 + 1.5 * IQR))).sum()\n",
        "print(\"Number of outliers:\\n\", outliers)\n"
      ]
    },
    {
      "cell_type": "markdown",
      "metadata": {
        "id": "0KRCLIR9VrJY"
      },
      "source": [
        "### **Key Inferences**  \n",
        "\n",
        "1. **Aggregate Rating (2,148 outliers)** → Indicates **extreme customer opinions**, suggesting highly loved or poorly rated restaurants.  \n",
        "\n",
        "2. **Votes (1,126 outliers)** → Some restaurants receive **far more or fewer reviews**, likely due to popularity, marketing, or fake reviews.\n",
        "### **Effects Based on Outlier Behavior**  \n",
        "\n",
        "3. **Aggregate Rating Outliers** → Likely **highly concentrated at extremes** (very high or very low), indicating **polarized customer feedback**. This can distort average ratings and misrepresent overall quality.  \n",
        "\n",
        "4. **Votes Outliers** → Likely **right-skewed**, with a few restaurants having **significantly higher votes**. This suggests **a small number of highly popular restaurants dominate reviews**, while many have minimal engagement."
      ]
    },
    {
      "cell_type": "code",
      "execution_count": null,
      "metadata": {
        "id": "pmH7UV0Qy8Zh"
      },
      "outputs": [],
      "source": [
        "plt.figure(figsize=(8, 6))\n",
        "sns.scatterplot(x=df[\"Votes\"], y=df[\"Aggregate rating\"], alpha=0.6)\n",
        "plt.xlabel(\"Votes\")\n",
        "plt.ylabel(\"Aggregate Rating\")\n",
        "plt.title(\"Relationship Between Votes and Ratings\")\n",
        "plt.show()"
      ]
    },
    {
      "cell_type": "code",
      "execution_count": null,
      "metadata": {
        "id": "XRgnUHm1zy4N"
      },
      "outputs": [],
      "source": [
        "correlation = df[\"Votes\"].corr(df[\"Aggregate rating\"])\n",
        "print(f\"Correlation between Votes and Ratings: {correlation}\")\n"
      ]
    },
    {
      "cell_type": "markdown",
      "metadata": {
        "id": "QupcdV7uF-Tg"
      },
      "source": [
        "\n",
        "**Votes & Ratings: Do they relate?**\n",
        "\n",
        " Correlation = 0.31 (weak positive)\n",
        " More votes kinda mean better rating, but not always.\n",
        "\n",
        " What this tell us:\n",
        " Some top-rated places got few votes.\n",
        " Some places with many votes still have bad ratings.\n",
        " People might not vote just based on rating.\n",
        "\n",
        " Why this happen?\n",
        " Small/local restaurants: Good ratings, but not many people vote.\n",
        " Popular places: Many votes, but ratings all over the place.\n",
        " Fake votes: Some places may have high votes, but rating not match.\n",
        "\n",
        " More votes **don’t always** mean better place. Ratings still matter most.\n"
      ]
    },
    {
      "cell_type": "markdown",
      "metadata": {
        "id": "vOcylIqYF-Dk"
      },
      "source": []
    },
    {
      "cell_type": "code",
      "execution_count": null,
      "metadata": {
        "id": "rcp6F60pz_jS"
      },
      "outputs": [],
      "source": []
    }
  ],
  "metadata": {
    "colab": {
      "provenance": [],
      "include_colab_link": true
    },
    "kernelspec": {
      "display_name": "Python 3",
      "name": "python3"
    },
    "language_info": {
      "name": "python"
    }
  },
  "nbformat": 4,
  "nbformat_minor": 0
}
